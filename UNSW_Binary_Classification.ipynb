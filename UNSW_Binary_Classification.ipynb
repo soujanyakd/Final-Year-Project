{
  "nbformat": 4,
  "nbformat_minor": 0,
  "metadata": {
    "colab": {
      "name": "UNSW_Binary_Classification.ipynb",
      "provenance": [],
      "collapsed_sections": [],
      "authorship_tag": "ABX9TyOKtVnjaacpnZVMwem3lwi1",
      "include_colab_link": true
    },
    "kernelspec": {
      "name": "python3",
      "display_name": "Python 3"
    },
    "language_info": {
      "name": "python"
    }
  },
  "cells": [
    {
      "cell_type": "markdown",
      "metadata": {
        "id": "view-in-github",
        "colab_type": "text"
      },
      "source": [
        "<a href=\"https://colab.research.google.com/github/soujanyakd/Final-Year-Project/blob/main/UNSW_Binary_Classification.ipynb\" target=\"_parent\"><img src=\"https://colab.research.google.com/assets/colab-badge.svg\" alt=\"Open In Colab\"/></a>"
      ]
    },
    {
      "cell_type": "code",
      "metadata": {
        "colab": {
          "base_uri": "https://localhost:8080/"
        },
        "id": "KVWcQBRnnL0s",
        "outputId": "dc14c140-0802-4fc0-929b-c424ac88e6dd"
      },
      "source": [
        "from google.colab import drive\n",
        "drive. mount('/content/drive/')"
      ],
      "execution_count": 1,
      "outputs": [
        {
          "output_type": "stream",
          "text": [
            "Mounted at /content/drive/\n"
          ],
          "name": "stdout"
        }
      ]
    },
    {
      "cell_type": "code",
      "metadata": {
        "id": "rwQdDoJHnjji"
      },
      "source": [
        "import matplotlib.pyplot as plt\n",
        "import os\n",
        "import re\n",
        "import shutil\n",
        "import string\n",
        "import tensorflow as tf\n",
        "import seaborn as sns\n",
        "from tensorflow.keras import regularizers\n",
        "\n",
        "from tensorflow.keras import layers\n",
        "from tensorflow.keras import losses\n",
        "\n",
        "from collections import Counter\n",
        "\n",
        "\n",
        "import pandas as pd\n",
        "import numpy as np\n",
        "\n",
        "from sklearn.preprocessing import LabelEncoder\n",
        "from sklearn.model_selection import train_test_split\n",
        "from sklearn.metrics import classification_report\n",
        "\n",
        "from tensorflow.keras import preprocessing\n",
        "from tensorflow.keras.preprocessing.text import Tokenizer\n",
        "from tensorflow.keras.preprocessing.sequence import pad_sequences\n",
        "from keras.datasets import imdb\n",
        "from tensorflow.keras.preprocessing.text import Tokenizer\n",
        "\n",
        "\n",
        "import pydot"
      ],
      "execution_count": 5,
      "outputs": []
    },
    {
      "cell_type": "code",
      "metadata": {
        "colab": {
          "base_uri": "https://localhost:8080/",
          "height": 669
        },
        "id": "f6nzlXNANkiR",
        "outputId": "ed9e677f-cd34-45ec-b421-aa75924ef66b"
      },
      "source": [
        "#uploading training dataset\n",
        "data= pd.read_csv(\"/content/drive/MyDrive/UNSW_NB15_testing-set.csv\")\n",
        "print('-------Data--------')\n",
        "print(data['attack_cat'].value_counts())\n",
        "print(len(data))\n",
        "print('-------------------------')\n",
        "data"
      ],
      "execution_count": 7,
      "outputs": [
        {
          "output_type": "stream",
          "text": [
            "-------Data--------\n",
            "Normal            56000\n",
            "Generic           40000\n",
            "Exploits          33393\n",
            "Fuzzers           18184\n",
            "DoS               12264\n",
            "Reconnaissance    10491\n",
            "Analysis           2000\n",
            "Backdoor           1746\n",
            "Shellcode          1133\n",
            "Worms               130\n",
            "Name: attack_cat, dtype: int64\n",
            "175341\n",
            "-------------------------\n"
          ],
          "name": "stdout"
        },
        {
          "output_type": "execute_result",
          "data": {
            "text/html": [
              "<div>\n",
              "<style scoped>\n",
              "    .dataframe tbody tr th:only-of-type {\n",
              "        vertical-align: middle;\n",
              "    }\n",
              "\n",
              "    .dataframe tbody tr th {\n",
              "        vertical-align: top;\n",
              "    }\n",
              "\n",
              "    .dataframe thead th {\n",
              "        text-align: right;\n",
              "    }\n",
              "</style>\n",
              "<table border=\"1\" class=\"dataframe\">\n",
              "  <thead>\n",
              "    <tr style=\"text-align: right;\">\n",
              "      <th></th>\n",
              "      <th>id</th>\n",
              "      <th>dur</th>\n",
              "      <th>proto</th>\n",
              "      <th>service</th>\n",
              "      <th>state</th>\n",
              "      <th>spkts</th>\n",
              "      <th>dpkts</th>\n",
              "      <th>sbytes</th>\n",
              "      <th>dbytes</th>\n",
              "      <th>rate</th>\n",
              "      <th>sttl</th>\n",
              "      <th>dttl</th>\n",
              "      <th>sload</th>\n",
              "      <th>dload</th>\n",
              "      <th>sloss</th>\n",
              "      <th>dloss</th>\n",
              "      <th>sinpkt</th>\n",
              "      <th>dinpkt</th>\n",
              "      <th>sjit</th>\n",
              "      <th>djit</th>\n",
              "      <th>swin</th>\n",
              "      <th>stcpb</th>\n",
              "      <th>dtcpb</th>\n",
              "      <th>dwin</th>\n",
              "      <th>tcprtt</th>\n",
              "      <th>synack</th>\n",
              "      <th>ackdat</th>\n",
              "      <th>smean</th>\n",
              "      <th>dmean</th>\n",
              "      <th>trans_depth</th>\n",
              "      <th>response_body_len</th>\n",
              "      <th>ct_srv_src</th>\n",
              "      <th>ct_state_ttl</th>\n",
              "      <th>ct_dst_ltm</th>\n",
              "      <th>ct_src_dport_ltm</th>\n",
              "      <th>ct_dst_sport_ltm</th>\n",
              "      <th>ct_dst_src_ltm</th>\n",
              "      <th>is_ftp_login</th>\n",
              "      <th>ct_ftp_cmd</th>\n",
              "      <th>ct_flw_http_mthd</th>\n",
              "      <th>ct_src_ltm</th>\n",
              "      <th>ct_srv_dst</th>\n",
              "      <th>is_sm_ips_ports</th>\n",
              "      <th>attack_cat</th>\n",
              "      <th>label</th>\n",
              "    </tr>\n",
              "  </thead>\n",
              "  <tbody>\n",
              "    <tr>\n",
              "      <th>0</th>\n",
              "      <td>1</td>\n",
              "      <td>0.121478</td>\n",
              "      <td>tcp</td>\n",
              "      <td>-</td>\n",
              "      <td>FIN</td>\n",
              "      <td>6</td>\n",
              "      <td>4</td>\n",
              "      <td>258</td>\n",
              "      <td>172</td>\n",
              "      <td>74.087490</td>\n",
              "      <td>252</td>\n",
              "      <td>254</td>\n",
              "      <td>1.415894e+04</td>\n",
              "      <td>8495.365234</td>\n",
              "      <td>0</td>\n",
              "      <td>0</td>\n",
              "      <td>24.295600</td>\n",
              "      <td>8.375000</td>\n",
              "      <td>30.177547</td>\n",
              "      <td>11.830604</td>\n",
              "      <td>255</td>\n",
              "      <td>621772692</td>\n",
              "      <td>2202533631</td>\n",
              "      <td>255</td>\n",
              "      <td>0.000000</td>\n",
              "      <td>0.000000</td>\n",
              "      <td>0.000000</td>\n",
              "      <td>43</td>\n",
              "      <td>43</td>\n",
              "      <td>0</td>\n",
              "      <td>0</td>\n",
              "      <td>1</td>\n",
              "      <td>0</td>\n",
              "      <td>1</td>\n",
              "      <td>1</td>\n",
              "      <td>1</td>\n",
              "      <td>1</td>\n",
              "      <td>0</td>\n",
              "      <td>0</td>\n",
              "      <td>0</td>\n",
              "      <td>1</td>\n",
              "      <td>1</td>\n",
              "      <td>0</td>\n",
              "      <td>Normal</td>\n",
              "      <td>0</td>\n",
              "    </tr>\n",
              "    <tr>\n",
              "      <th>1</th>\n",
              "      <td>2</td>\n",
              "      <td>0.649902</td>\n",
              "      <td>tcp</td>\n",
              "      <td>-</td>\n",
              "      <td>FIN</td>\n",
              "      <td>14</td>\n",
              "      <td>38</td>\n",
              "      <td>734</td>\n",
              "      <td>42014</td>\n",
              "      <td>78.473372</td>\n",
              "      <td>62</td>\n",
              "      <td>252</td>\n",
              "      <td>8.395112e+03</td>\n",
              "      <td>503571.312500</td>\n",
              "      <td>2</td>\n",
              "      <td>17</td>\n",
              "      <td>49.915000</td>\n",
              "      <td>15.432865</td>\n",
              "      <td>61.426934</td>\n",
              "      <td>1387.778330</td>\n",
              "      <td>255</td>\n",
              "      <td>1417884146</td>\n",
              "      <td>3077387971</td>\n",
              "      <td>255</td>\n",
              "      <td>0.000000</td>\n",
              "      <td>0.000000</td>\n",
              "      <td>0.000000</td>\n",
              "      <td>52</td>\n",
              "      <td>1106</td>\n",
              "      <td>0</td>\n",
              "      <td>0</td>\n",
              "      <td>43</td>\n",
              "      <td>1</td>\n",
              "      <td>1</td>\n",
              "      <td>1</td>\n",
              "      <td>1</td>\n",
              "      <td>2</td>\n",
              "      <td>0</td>\n",
              "      <td>0</td>\n",
              "      <td>0</td>\n",
              "      <td>1</td>\n",
              "      <td>6</td>\n",
              "      <td>0</td>\n",
              "      <td>Normal</td>\n",
              "      <td>0</td>\n",
              "    </tr>\n",
              "    <tr>\n",
              "      <th>2</th>\n",
              "      <td>3</td>\n",
              "      <td>1.623129</td>\n",
              "      <td>tcp</td>\n",
              "      <td>-</td>\n",
              "      <td>FIN</td>\n",
              "      <td>8</td>\n",
              "      <td>16</td>\n",
              "      <td>364</td>\n",
              "      <td>13186</td>\n",
              "      <td>14.170161</td>\n",
              "      <td>62</td>\n",
              "      <td>252</td>\n",
              "      <td>1.572272e+03</td>\n",
              "      <td>60929.230470</td>\n",
              "      <td>1</td>\n",
              "      <td>6</td>\n",
              "      <td>231.875571</td>\n",
              "      <td>102.737203</td>\n",
              "      <td>17179.586860</td>\n",
              "      <td>11420.926230</td>\n",
              "      <td>255</td>\n",
              "      <td>2116150707</td>\n",
              "      <td>2963114973</td>\n",
              "      <td>255</td>\n",
              "      <td>0.111897</td>\n",
              "      <td>0.061458</td>\n",
              "      <td>0.050439</td>\n",
              "      <td>46</td>\n",
              "      <td>824</td>\n",
              "      <td>0</td>\n",
              "      <td>0</td>\n",
              "      <td>7</td>\n",
              "      <td>1</td>\n",
              "      <td>2</td>\n",
              "      <td>1</td>\n",
              "      <td>1</td>\n",
              "      <td>3</td>\n",
              "      <td>0</td>\n",
              "      <td>0</td>\n",
              "      <td>0</td>\n",
              "      <td>2</td>\n",
              "      <td>6</td>\n",
              "      <td>0</td>\n",
              "      <td>Normal</td>\n",
              "      <td>0</td>\n",
              "    </tr>\n",
              "    <tr>\n",
              "      <th>3</th>\n",
              "      <td>4</td>\n",
              "      <td>1.681642</td>\n",
              "      <td>tcp</td>\n",
              "      <td>ftp</td>\n",
              "      <td>FIN</td>\n",
              "      <td>12</td>\n",
              "      <td>12</td>\n",
              "      <td>628</td>\n",
              "      <td>770</td>\n",
              "      <td>13.677108</td>\n",
              "      <td>62</td>\n",
              "      <td>252</td>\n",
              "      <td>2.740179e+03</td>\n",
              "      <td>3358.622070</td>\n",
              "      <td>1</td>\n",
              "      <td>3</td>\n",
              "      <td>152.876547</td>\n",
              "      <td>90.235726</td>\n",
              "      <td>259.080172</td>\n",
              "      <td>4991.784669</td>\n",
              "      <td>255</td>\n",
              "      <td>1107119177</td>\n",
              "      <td>1047442890</td>\n",
              "      <td>255</td>\n",
              "      <td>0.000000</td>\n",
              "      <td>0.000000</td>\n",
              "      <td>0.000000</td>\n",
              "      <td>52</td>\n",
              "      <td>64</td>\n",
              "      <td>0</td>\n",
              "      <td>0</td>\n",
              "      <td>1</td>\n",
              "      <td>1</td>\n",
              "      <td>2</td>\n",
              "      <td>1</td>\n",
              "      <td>1</td>\n",
              "      <td>3</td>\n",
              "      <td>1</td>\n",
              "      <td>1</td>\n",
              "      <td>0</td>\n",
              "      <td>2</td>\n",
              "      <td>1</td>\n",
              "      <td>0</td>\n",
              "      <td>Normal</td>\n",
              "      <td>0</td>\n",
              "    </tr>\n",
              "    <tr>\n",
              "      <th>4</th>\n",
              "      <td>5</td>\n",
              "      <td>0.449454</td>\n",
              "      <td>tcp</td>\n",
              "      <td>-</td>\n",
              "      <td>FIN</td>\n",
              "      <td>10</td>\n",
              "      <td>6</td>\n",
              "      <td>534</td>\n",
              "      <td>268</td>\n",
              "      <td>33.373826</td>\n",
              "      <td>254</td>\n",
              "      <td>252</td>\n",
              "      <td>8.561499e+03</td>\n",
              "      <td>3987.059814</td>\n",
              "      <td>2</td>\n",
              "      <td>1</td>\n",
              "      <td>47.750333</td>\n",
              "      <td>75.659602</td>\n",
              "      <td>2415.837634</td>\n",
              "      <td>115.807000</td>\n",
              "      <td>255</td>\n",
              "      <td>2436137549</td>\n",
              "      <td>1977154190</td>\n",
              "      <td>255</td>\n",
              "      <td>0.128381</td>\n",
              "      <td>0.071147</td>\n",
              "      <td>0.057234</td>\n",
              "      <td>53</td>\n",
              "      <td>45</td>\n",
              "      <td>0</td>\n",
              "      <td>0</td>\n",
              "      <td>43</td>\n",
              "      <td>1</td>\n",
              "      <td>2</td>\n",
              "      <td>2</td>\n",
              "      <td>1</td>\n",
              "      <td>40</td>\n",
              "      <td>0</td>\n",
              "      <td>0</td>\n",
              "      <td>0</td>\n",
              "      <td>2</td>\n",
              "      <td>39</td>\n",
              "      <td>0</td>\n",
              "      <td>Normal</td>\n",
              "      <td>0</td>\n",
              "    </tr>\n",
              "    <tr>\n",
              "      <th>...</th>\n",
              "      <td>...</td>\n",
              "      <td>...</td>\n",
              "      <td>...</td>\n",
              "      <td>...</td>\n",
              "      <td>...</td>\n",
              "      <td>...</td>\n",
              "      <td>...</td>\n",
              "      <td>...</td>\n",
              "      <td>...</td>\n",
              "      <td>...</td>\n",
              "      <td>...</td>\n",
              "      <td>...</td>\n",
              "      <td>...</td>\n",
              "      <td>...</td>\n",
              "      <td>...</td>\n",
              "      <td>...</td>\n",
              "      <td>...</td>\n",
              "      <td>...</td>\n",
              "      <td>...</td>\n",
              "      <td>...</td>\n",
              "      <td>...</td>\n",
              "      <td>...</td>\n",
              "      <td>...</td>\n",
              "      <td>...</td>\n",
              "      <td>...</td>\n",
              "      <td>...</td>\n",
              "      <td>...</td>\n",
              "      <td>...</td>\n",
              "      <td>...</td>\n",
              "      <td>...</td>\n",
              "      <td>...</td>\n",
              "      <td>...</td>\n",
              "      <td>...</td>\n",
              "      <td>...</td>\n",
              "      <td>...</td>\n",
              "      <td>...</td>\n",
              "      <td>...</td>\n",
              "      <td>...</td>\n",
              "      <td>...</td>\n",
              "      <td>...</td>\n",
              "      <td>...</td>\n",
              "      <td>...</td>\n",
              "      <td>...</td>\n",
              "      <td>...</td>\n",
              "      <td>...</td>\n",
              "    </tr>\n",
              "    <tr>\n",
              "      <th>175336</th>\n",
              "      <td>175337</td>\n",
              "      <td>0.000009</td>\n",
              "      <td>udp</td>\n",
              "      <td>dns</td>\n",
              "      <td>INT</td>\n",
              "      <td>2</td>\n",
              "      <td>0</td>\n",
              "      <td>114</td>\n",
              "      <td>0</td>\n",
              "      <td>111111.107200</td>\n",
              "      <td>254</td>\n",
              "      <td>0</td>\n",
              "      <td>5.066666e+07</td>\n",
              "      <td>0.000000</td>\n",
              "      <td>0</td>\n",
              "      <td>0</td>\n",
              "      <td>0.009000</td>\n",
              "      <td>0.000000</td>\n",
              "      <td>0.000000</td>\n",
              "      <td>0.000000</td>\n",
              "      <td>0</td>\n",
              "      <td>0</td>\n",
              "      <td>0</td>\n",
              "      <td>0</td>\n",
              "      <td>0.000000</td>\n",
              "      <td>0.000000</td>\n",
              "      <td>0.000000</td>\n",
              "      <td>57</td>\n",
              "      <td>0</td>\n",
              "      <td>0</td>\n",
              "      <td>0</td>\n",
              "      <td>24</td>\n",
              "      <td>2</td>\n",
              "      <td>24</td>\n",
              "      <td>24</td>\n",
              "      <td>13</td>\n",
              "      <td>24</td>\n",
              "      <td>0</td>\n",
              "      <td>0</td>\n",
              "      <td>0</td>\n",
              "      <td>24</td>\n",
              "      <td>24</td>\n",
              "      <td>0</td>\n",
              "      <td>Generic</td>\n",
              "      <td>1</td>\n",
              "    </tr>\n",
              "    <tr>\n",
              "      <th>175337</th>\n",
              "      <td>175338</td>\n",
              "      <td>0.505762</td>\n",
              "      <td>tcp</td>\n",
              "      <td>-</td>\n",
              "      <td>FIN</td>\n",
              "      <td>10</td>\n",
              "      <td>8</td>\n",
              "      <td>620</td>\n",
              "      <td>354</td>\n",
              "      <td>33.612649</td>\n",
              "      <td>254</td>\n",
              "      <td>252</td>\n",
              "      <td>8.826286e+03</td>\n",
              "      <td>4903.492188</td>\n",
              "      <td>2</td>\n",
              "      <td>1</td>\n",
              "      <td>54.400111</td>\n",
              "      <td>66.980570</td>\n",
              "      <td>3721.068786</td>\n",
              "      <td>120.177727</td>\n",
              "      <td>255</td>\n",
              "      <td>3518776216</td>\n",
              "      <td>3453092386</td>\n",
              "      <td>255</td>\n",
              "      <td>0.099440</td>\n",
              "      <td>0.036895</td>\n",
              "      <td>0.062545</td>\n",
              "      <td>62</td>\n",
              "      <td>44</td>\n",
              "      <td>0</td>\n",
              "      <td>0</td>\n",
              "      <td>1</td>\n",
              "      <td>1</td>\n",
              "      <td>1</td>\n",
              "      <td>1</td>\n",
              "      <td>1</td>\n",
              "      <td>2</td>\n",
              "      <td>0</td>\n",
              "      <td>0</td>\n",
              "      <td>0</td>\n",
              "      <td>1</td>\n",
              "      <td>1</td>\n",
              "      <td>0</td>\n",
              "      <td>Shellcode</td>\n",
              "      <td>1</td>\n",
              "    </tr>\n",
              "    <tr>\n",
              "      <th>175338</th>\n",
              "      <td>175339</td>\n",
              "      <td>0.000009</td>\n",
              "      <td>udp</td>\n",
              "      <td>dns</td>\n",
              "      <td>INT</td>\n",
              "      <td>2</td>\n",
              "      <td>0</td>\n",
              "      <td>114</td>\n",
              "      <td>0</td>\n",
              "      <td>111111.107200</td>\n",
              "      <td>254</td>\n",
              "      <td>0</td>\n",
              "      <td>5.066666e+07</td>\n",
              "      <td>0.000000</td>\n",
              "      <td>0</td>\n",
              "      <td>0</td>\n",
              "      <td>0.009000</td>\n",
              "      <td>0.000000</td>\n",
              "      <td>0.000000</td>\n",
              "      <td>0.000000</td>\n",
              "      <td>0</td>\n",
              "      <td>0</td>\n",
              "      <td>0</td>\n",
              "      <td>0</td>\n",
              "      <td>0.000000</td>\n",
              "      <td>0.000000</td>\n",
              "      <td>0.000000</td>\n",
              "      <td>57</td>\n",
              "      <td>0</td>\n",
              "      <td>0</td>\n",
              "      <td>0</td>\n",
              "      <td>12</td>\n",
              "      <td>2</td>\n",
              "      <td>3</td>\n",
              "      <td>3</td>\n",
              "      <td>3</td>\n",
              "      <td>13</td>\n",
              "      <td>0</td>\n",
              "      <td>0</td>\n",
              "      <td>0</td>\n",
              "      <td>3</td>\n",
              "      <td>12</td>\n",
              "      <td>0</td>\n",
              "      <td>Generic</td>\n",
              "      <td>1</td>\n",
              "    </tr>\n",
              "    <tr>\n",
              "      <th>175339</th>\n",
              "      <td>175340</td>\n",
              "      <td>0.000009</td>\n",
              "      <td>udp</td>\n",
              "      <td>dns</td>\n",
              "      <td>INT</td>\n",
              "      <td>2</td>\n",
              "      <td>0</td>\n",
              "      <td>114</td>\n",
              "      <td>0</td>\n",
              "      <td>111111.107200</td>\n",
              "      <td>254</td>\n",
              "      <td>0</td>\n",
              "      <td>5.066666e+07</td>\n",
              "      <td>0.000000</td>\n",
              "      <td>0</td>\n",
              "      <td>0</td>\n",
              "      <td>0.009000</td>\n",
              "      <td>0.000000</td>\n",
              "      <td>0.000000</td>\n",
              "      <td>0.000000</td>\n",
              "      <td>0</td>\n",
              "      <td>0</td>\n",
              "      <td>0</td>\n",
              "      <td>0</td>\n",
              "      <td>0.000000</td>\n",
              "      <td>0.000000</td>\n",
              "      <td>0.000000</td>\n",
              "      <td>57</td>\n",
              "      <td>0</td>\n",
              "      <td>0</td>\n",
              "      <td>0</td>\n",
              "      <td>30</td>\n",
              "      <td>2</td>\n",
              "      <td>30</td>\n",
              "      <td>30</td>\n",
              "      <td>14</td>\n",
              "      <td>30</td>\n",
              "      <td>0</td>\n",
              "      <td>0</td>\n",
              "      <td>0</td>\n",
              "      <td>30</td>\n",
              "      <td>30</td>\n",
              "      <td>0</td>\n",
              "      <td>Generic</td>\n",
              "      <td>1</td>\n",
              "    </tr>\n",
              "    <tr>\n",
              "      <th>175340</th>\n",
              "      <td>175341</td>\n",
              "      <td>0.000009</td>\n",
              "      <td>udp</td>\n",
              "      <td>dns</td>\n",
              "      <td>INT</td>\n",
              "      <td>2</td>\n",
              "      <td>0</td>\n",
              "      <td>114</td>\n",
              "      <td>0</td>\n",
              "      <td>111111.107200</td>\n",
              "      <td>254</td>\n",
              "      <td>0</td>\n",
              "      <td>5.066666e+07</td>\n",
              "      <td>0.000000</td>\n",
              "      <td>0</td>\n",
              "      <td>0</td>\n",
              "      <td>0.009000</td>\n",
              "      <td>0.000000</td>\n",
              "      <td>0.000000</td>\n",
              "      <td>0.000000</td>\n",
              "      <td>0</td>\n",
              "      <td>0</td>\n",
              "      <td>0</td>\n",
              "      <td>0</td>\n",
              "      <td>0.000000</td>\n",
              "      <td>0.000000</td>\n",
              "      <td>0.000000</td>\n",
              "      <td>57</td>\n",
              "      <td>0</td>\n",
              "      <td>0</td>\n",
              "      <td>0</td>\n",
              "      <td>30</td>\n",
              "      <td>2</td>\n",
              "      <td>30</td>\n",
              "      <td>30</td>\n",
              "      <td>16</td>\n",
              "      <td>30</td>\n",
              "      <td>0</td>\n",
              "      <td>0</td>\n",
              "      <td>0</td>\n",
              "      <td>30</td>\n",
              "      <td>30</td>\n",
              "      <td>0</td>\n",
              "      <td>Generic</td>\n",
              "      <td>1</td>\n",
              "    </tr>\n",
              "  </tbody>\n",
              "</table>\n",
              "<p>175341 rows × 45 columns</p>\n",
              "</div>"
            ],
            "text/plain": [
              "            id       dur proto  ... is_sm_ips_ports attack_cat  label\n",
              "0            1  0.121478   tcp  ...               0     Normal      0\n",
              "1            2  0.649902   tcp  ...               0     Normal      0\n",
              "2            3  1.623129   tcp  ...               0     Normal      0\n",
              "3            4  1.681642   tcp  ...               0     Normal      0\n",
              "4            5  0.449454   tcp  ...               0     Normal      0\n",
              "...        ...       ...   ...  ...             ...        ...    ...\n",
              "175336  175337  0.000009   udp  ...               0    Generic      1\n",
              "175337  175338  0.505762   tcp  ...               0  Shellcode      1\n",
              "175338  175339  0.000009   udp  ...               0    Generic      1\n",
              "175339  175340  0.000009   udp  ...               0    Generic      1\n",
              "175340  175341  0.000009   udp  ...               0    Generic      1\n",
              "\n",
              "[175341 rows x 45 columns]"
            ]
          },
          "metadata": {
            "tags": []
          },
          "execution_count": 7
        }
      ]
    },
    {
      "cell_type": "code",
      "metadata": {
        "colab": {
          "base_uri": "https://localhost:8080/",
          "height": 401
        },
        "id": "TVbdxvEdl9-d",
        "outputId": "fe76fcce-d20b-455d-a508-cc69fb5f4747"
      },
      "source": [
        "sns.catplot(x=\"attack_cat\",kind=\"count\", data=data, palette=\"dark\",aspect=1.99)"
      ],
      "execution_count": 8,
      "outputs": [
        {
          "output_type": "execute_result",
          "data": {
            "text/plain": [
              "<seaborn.axisgrid.FacetGrid at 0x7fa013b2af90>"
            ]
          },
          "metadata": {
            "tags": []
          },
          "execution_count": 8
        },
        {
          "output_type": "display_data",
          "data": {
            "image/png": "[encoded data removed]",
            "text/plain": [
              "<Figure size 716.4x360 with 1 Axes>"
            ]
          },
          "metadata": {
            "tags": [],
            "needs_background": "light"
          }
        }
      ]
    },
    {
      "cell_type": "code",
      "metadata": {
        "colab": {
          "base_uri": "https://localhost:8080/",
          "height": 400
        },
        "id": "aRVruJrtpDhi",
        "outputId": "6c7a3381-28cd-4710-fb21-05f70721c6c4"
      },
      "source": [
        "sns.catplot(x=\"label\",kind=\"count\", data=data, palette=\"dark\",aspect=0.99)"
      ],
      "execution_count": 9,
      "outputs": [
        {
          "output_type": "execute_result",
          "data": {
            "text/plain": [
              "<seaborn.axisgrid.FacetGrid at 0x7fa00568bb10>"
            ]
          },
          "metadata": {
            "tags": []
          },
          "execution_count": 9
        },
        {
          "output_type": "display_data",
          "data": {
            "image/png": "[encoded data removed]",
            "text/plain": [
              "<Figure size 356.4x360 with 1 Axes>"
            ]
          },
          "metadata": {
            "tags": [],
            "needs_background": "light"
          }
        }
      ]
    },
    {
      "cell_type": "code",
      "metadata": {
        "colab": {
          "base_uri": "https://localhost:8080/"
        },
        "id": "5Id1HcQJ9pkf",
        "outputId": "2c42bbc7-f8e2-4bcc-e642-def2d8d28c30"
      },
      "source": [
        "data.drop(data[data['attack_cat']=='Generic'].index, inplace = True)\n",
        "data.drop(data[data['attack_cat']=='Fuzzers'].index, inplace = True)\n",
        "data.drop(data[data['attack_cat']=='DoS'].index, inplace = True)\n",
        "data.drop(data[data['attack_cat']=='Backdoor'].index, inplace = True)\n",
        "data.drop(data[data['attack_cat']=='Shellcode'].index, inplace = True)\n",
        "data.drop(data[data['attack_cat']=='Worms'].index, inplace = True)\n",
        "print(data['attack_cat'].value_counts())"
      ],
      "execution_count": 10,
      "outputs": [
        {
          "output_type": "stream",
          "text": [
            "Normal            56000\n",
            "Exploits          33393\n",
            "Reconnaissance    10491\n",
            "Analysis           2000\n",
            "Name: attack_cat, dtype: int64\n"
          ],
          "name": "stdout"
        }
      ]
    },
    {
      "cell_type": "code",
      "metadata": {
        "colab": {
          "base_uri": "https://localhost:8080/",
          "height": 401
        },
        "id": "fJnj_gHN2t6c",
        "outputId": "5a9965a1-7cd2-4dce-ac0d-e0b6e73af4d9"
      },
      "source": [
        "sns.catplot(x=\"attack_cat\",kind=\"count\", data=data, palette=\"dark\",aspect=.99)"
      ],
      "execution_count": 11,
      "outputs": [
        {
          "output_type": "execute_result",
          "data": {
            "text/plain": [
              "<seaborn.axisgrid.FacetGrid at 0x7fa004070a90>"
            ]
          },
          "metadata": {
            "tags": []
          },
          "execution_count": 11
        },
        {
          "output_type": "display_data",
          "data": {
            "image/png": "[encoded data removed]",
            "text/plain": [
              "<Figure size 356.4x360 with 1 Axes>"
            ]
          },
          "metadata": {
            "tags": [],
            "needs_background": "light"
          }
        }
      ]
    },
    {
      "cell_type": "code",
      "metadata": {
        "colab": {
          "base_uri": "https://localhost:8080/",
          "height": 400
        },
        "id": "FG7w-QHLpTt4",
        "outputId": "fe1568f8-7caf-4ec2-b28f-5547fda3810f"
      },
      "source": [
        "sns.catplot(x=\"label\",kind=\"count\", data=data, palette=\"dark\",aspect=.99)"
      ],
      "execution_count": 12,
      "outputs": [
        {
          "output_type": "execute_result",
          "data": {
            "text/plain": [
              "<seaborn.axisgrid.FacetGrid at 0x7fa01135ea50>"
            ]
          },
          "metadata": {
            "tags": []
          },
          "execution_count": 12
        },
        {
          "output_type": "display_data",
          "data": {
            "image/png": "[encoded data removed]",
            "text/plain": [
              "<Figure size 356.4x360 with 1 Axes>"
            ]
          },
          "metadata": {
            "tags": [],
            "needs_background": "light"
          }
        }
      ]
    },
    {
      "cell_type": "code",
      "metadata": {
        "colab": {
          "base_uri": "https://localhost:8080/"
        },
        "id": "DTWjwO6EoSYg",
        "outputId": "ebd43041-f0fa-4081-ddc7-4001e8b2e39d"
      },
      "source": [
        "data.isnull().sum()"
      ],
      "execution_count": 13,
      "outputs": [
        {
          "output_type": "execute_result",
          "data": {
            "text/plain": [
              "id                   0\n",
              "dur                  0\n",
              "proto                0\n",
              "service              0\n",
              "state                0\n",
              "spkts                0\n",
              "dpkts                0\n",
              "sbytes               0\n",
              "dbytes               0\n",
              "rate                 0\n",
              "sttl                 0\n",
              "dttl                 0\n",
              "sload                0\n",
              "dload                0\n",
              "sloss                0\n",
              "dloss                0\n",
              "sinpkt               0\n",
              "dinpkt               0\n",
              "sjit                 0\n",
              "djit                 0\n",
              "swin                 0\n",
              "stcpb                0\n",
              "dtcpb                0\n",
              "dwin                 0\n",
              "tcprtt               0\n",
              "synack               0\n",
              "ackdat               0\n",
              "smean                0\n",
              "dmean                0\n",
              "trans_depth          0\n",
              "response_body_len    0\n",
              "ct_srv_src           0\n",
              "ct_state_ttl         0\n",
              "ct_dst_ltm           0\n",
              "ct_src_dport_ltm     0\n",
              "ct_dst_sport_ltm     0\n",
              "ct_dst_src_ltm       0\n",
              "is_ftp_login         0\n",
              "ct_ftp_cmd           0\n",
              "ct_flw_http_mthd     0\n",
              "ct_src_ltm           0\n",
              "ct_srv_dst           0\n",
              "is_sm_ips_ports      0\n",
              "attack_cat           0\n",
              "label                0\n",
              "dtype: int64"
            ]
          },
          "metadata": {
            "tags": []
          },
          "execution_count": 13
        }
      ]
    },
    {
      "cell_type": "code",
      "metadata": {
        "colab": {
          "base_uri": "https://localhost:8080/"
        },
        "id": "fKtZw4dgGduX",
        "outputId": "59be8e3e-97b0-465e-c1f6-acbc165ae469"
      },
      "source": [
        "\n",
        "data.info()"
      ],
      "execution_count": 15,
      "outputs": [
        {
          "output_type": "stream",
          "text": [
            "<class 'pandas.core.frame.DataFrame'>\n",
            "Int64Index: 101884 entries, 0 to 175305\n",
            "Data columns (total 45 columns):\n",
            " #   Column             Non-Null Count   Dtype  \n",
            "---  ------             --------------   -----  \n",
            " 0   id                 101884 non-null  int64  \n",
            " 1   dur                101884 non-null  float64\n",
            " 2   proto              101884 non-null  object \n",
            " 3   service            101884 non-null  object \n",
            " 4   state              101884 non-null  object \n",
            " 5   spkts              101884 non-null  int64  \n",
            " 6   dpkts              101884 non-null  int64  \n",
            " 7   sbytes             101884 non-null  int64  \n",
            " 8   dbytes             101884 non-null  int64  \n",
            " 9   rate               101884 non-null  float64\n",
            " 10  sttl               101884 non-null  int64  \n",
            " 11  dttl               101884 non-null  int64  \n",
            " 12  sload              101884 non-null  float64\n",
            " 13  dload              101884 non-null  float64\n",
            " 14  sloss              101884 non-null  int64  \n",
            " 15  dloss              101884 non-null  int64  \n",
            " 16  sinpkt             101884 non-null  float64\n",
            " 17  dinpkt             101884 non-null  float64\n",
            " 18  sjit               101884 non-null  float64\n",
            " 19  djit               101884 non-null  float64\n",
            " 20  swin               101884 non-null  int64  \n",
            " 21  stcpb              101884 non-null  int64  \n",
            " 22  dtcpb              101884 non-null  int64  \n",
            " 23  dwin               101884 non-null  int64  \n",
            " 24  tcprtt             101884 non-null  float64\n",
            " 25  synack             101884 non-null  float64\n",
            " 26  ackdat             101884 non-null  float64\n",
            " 27  smean              101884 non-null  int64  \n",
            " 28  dmean              101884 non-null  int64  \n",
            " 29  trans_depth        101884 non-null  int64  \n",
            " 30  response_body_len  101884 non-null  int64  \n",
            " 31  ct_srv_src         101884 non-null  int64  \n",
            " 32  ct_state_ttl       101884 non-null  int64  \n",
            " 33  ct_dst_ltm         101884 non-null  int64  \n",
            " 34  ct_src_dport_ltm   101884 non-null  int64  \n",
            " 35  ct_dst_sport_ltm   101884 non-null  int64  \n",
            " 36  ct_dst_src_ltm     101884 non-null  int64  \n",
            " 37  is_ftp_login       101884 non-null  int64  \n",
            " 38  ct_ftp_cmd         101884 non-null  int64  \n",
            " 39  ct_flw_http_mthd   101884 non-null  int64  \n",
            " 40  ct_src_ltm         101884 non-null  int64  \n",
            " 41  ct_srv_dst         101884 non-null  int64  \n",
            " 42  is_sm_ips_ports    101884 non-null  int64  \n",
            " 43  attack_cat         101884 non-null  object \n",
            " 44  label              101884 non-null  int64  \n",
            "dtypes: float64(11), int64(30), object(4)\n",
            "memory usage: 40.8+ MB\n"
          ],
          "name": "stdout"
        }
      ]
    },
    {
      "cell_type": "code",
      "metadata": {
        "colab": {
          "base_uri": "https://localhost:8080/"
        },
        "id": "eexOtRBlehjJ",
        "outputId": "4c64d240-3a61-4aa9-e110-623933202932"
      },
      "source": [
        "print(data['service'].value_counts())\n",
        "print(data['proto'].value_counts())\n",
        "print(data['state'].value_counts())"
      ],
      "execution_count": 16,
      "outputs": [
        {
          "output_type": "stream",
          "text": [
            "-           63942\n",
            "http        16186\n",
            "dns          7713\n",
            "smtp         4703\n",
            "ftp-data     3987\n",
            "ftp          2833\n",
            "ssh          1301\n",
            "pop3         1043\n",
            "snmp           66\n",
            "dhcp           52\n",
            "ssl            39\n",
            "irc            10\n",
            "radius          9\n",
            "Name: service, dtype: int64\n",
            "tcp     64474\n",
            "udp     18132\n",
            "unas     6700\n",
            "arp      2859\n",
            "ospf     1551\n",
            "        ...  \n",
            "cphb       55\n",
            "mtp        55\n",
            "igmp       18\n",
            "icmp       15\n",
            "rtp         1\n",
            "Name: proto, Length: 133, dtype: int64\n",
            "FIN    62425\n",
            "INT    25253\n",
            "CON    12749\n",
            "REQ     1362\n",
            "RST       80\n",
            "ECO       12\n",
            "URN        1\n",
            "no         1\n",
            "PAR        1\n",
            "Name: state, dtype: int64\n"
          ],
          "name": "stdout"
        }
      ]
    },
    {
      "cell_type": "code",
      "metadata": {
        "id": "kCdeC0Q4Er1_"
      },
      "source": [
        "\n",
        "data=data.drop(['service'],axis=1)\n",
        "data=data.drop(['id'],axis=1)"
      ],
      "execution_count": 17,
      "outputs": []
    },
    {
      "cell_type": "code",
      "metadata": {
        "id": "TlfuvqI3GTsM",
        "colab": {
          "base_uri": "https://localhost:8080/"
        },
        "outputId": "80407296-0710-417b-9b9d-54fb3cfb94c6"
      },
      "source": [
        "from sklearn import preprocessing\n",
        "le=preprocessing.LabelEncoder()\n",
        "data['proto'] = le.fit_transform(data['proto'])\n",
        "data['state'] = le.fit_transform(data['state'])\n",
        "data.replace({'attack_cat':{'Normal':0,'Exploits':1,'Reconnaissance':2,'Analysis':3}},inplace=True)\n",
        "print(data['attack_cat'].value_counts())"
      ],
      "execution_count": 18,
      "outputs": [
        {
          "output_type": "stream",
          "text": [
            "0    56000\n",
            "1    33393\n",
            "2    10491\n",
            "3     2000\n",
            "Name: attack_cat, dtype: int64\n"
          ],
          "name": "stdout"
        }
      ]
    },
    {
      "cell_type": "code",
      "metadata": {
        "id": "g1ct9xfCHOYF"
      },
      "source": [
        "data = data.apply(pd.to_numeric)"
      ],
      "execution_count": 19,
      "outputs": []
    },
    {
      "cell_type": "code",
      "metadata": {
        "colab": {
          "base_uri": "https://localhost:8080/"
        },
        "id": "oQNnKWXWDvqu",
        "outputId": "bfba7da0-70a2-4d09-8337-886e543d2b0c"
      },
      "source": [
        "data.info()"
      ],
      "execution_count": 21,
      "outputs": [
        {
          "output_type": "stream",
          "text": [
            "<class 'pandas.core.frame.DataFrame'>\n",
            "Int64Index: 101884 entries, 0 to 175305\n",
            "Data columns (total 43 columns):\n",
            " #   Column             Non-Null Count   Dtype  \n",
            "---  ------             --------------   -----  \n",
            " 0   dur                101884 non-null  float64\n",
            " 1   proto              101884 non-null  int64  \n",
            " 2   state              101884 non-null  int64  \n",
            " 3   spkts              101884 non-null  int64  \n",
            " 4   dpkts              101884 non-null  int64  \n",
            " 5   sbytes             101884 non-null  int64  \n",
            " 6   dbytes             101884 non-null  int64  \n",
            " 7   rate               101884 non-null  float64\n",
            " 8   sttl               101884 non-null  int64  \n",
            " 9   dttl               101884 non-null  int64  \n",
            " 10  sload              101884 non-null  float64\n",
            " 11  dload              101884 non-null  float64\n",
            " 12  sloss              101884 non-null  int64  \n",
            " 13  dloss              101884 non-null  int64  \n",
            " 14  sinpkt             101884 non-null  float64\n",
            " 15  dinpkt             101884 non-null  float64\n",
            " 16  sjit               101884 non-null  float64\n",
            " 17  djit               101884 non-null  float64\n",
            " 18  swin               101884 non-null  int64  \n",
            " 19  stcpb              101884 non-null  int64  \n",
            " 20  dtcpb              101884 non-null  int64  \n",
            " 21  dwin               101884 non-null  int64  \n",
            " 22  tcprtt             101884 non-null  float64\n",
            " 23  synack             101884 non-null  float64\n",
            " 24  ackdat             101884 non-null  float64\n",
            " 25  smean              101884 non-null  int64  \n",
            " 26  dmean              101884 non-null  int64  \n",
            " 27  trans_depth        101884 non-null  int64  \n",
            " 28  response_body_len  101884 non-null  int64  \n",
            " 29  ct_srv_src         101884 non-null  int64  \n",
            " 30  ct_state_ttl       101884 non-null  int64  \n",
            " 31  ct_dst_ltm         101884 non-null  int64  \n",
            " 32  ct_src_dport_ltm   101884 non-null  int64  \n",
            " 33  ct_dst_sport_ltm   101884 non-null  int64  \n",
            " 34  ct_dst_src_ltm     101884 non-null  int64  \n",
            " 35  is_ftp_login       101884 non-null  int64  \n",
            " 36  ct_ftp_cmd         101884 non-null  int64  \n",
            " 37  ct_flw_http_mthd   101884 non-null  int64  \n",
            " 38  ct_src_ltm         101884 non-null  int64  \n",
            " 39  ct_srv_dst         101884 non-null  int64  \n",
            " 40  is_sm_ips_ports    101884 non-null  int64  \n",
            " 41  attack_cat         101884 non-null  int64  \n",
            " 42  label              101884 non-null  int64  \n",
            "dtypes: float64(11), int64(32)\n",
            "memory usage: 39.2 MB\n"
          ],
          "name": "stdout"
        }
      ]
    },
    {
      "cell_type": "code",
      "metadata": {
        "colab": {
          "base_uri": "https://localhost:8080/",
          "height": 435
        },
        "id": "_BG1qhTNHW6s",
        "outputId": "72a05d94-173b-41b9-d1e8-f6b0f033ece2"
      },
      "source": [
        "data.round(decimals=2)\n",
        "data = data.astype(int)\n",
        "data"
      ],
      "execution_count": 23,
      "outputs": [
        {
          "output_type": "execute_result",
          "data": {
            "text/html": [
              "<div>\n",
              "<style scoped>\n",
              "    .dataframe tbody tr th:only-of-type {\n",
              "        vertical-align: middle;\n",
              "    }\n",
              "\n",
              "    .dataframe tbody tr th {\n",
              "        vertical-align: top;\n",
              "    }\n",
              "\n",
              "    .dataframe thead th {\n",
              "        text-align: right;\n",
              "    }\n",
              "</style>\n",
              "<table border=\"1\" class=\"dataframe\">\n",
              "  <thead>\n",
              "    <tr style=\"text-align: right;\">\n",
              "      <th></th>\n",
              "      <th>dur</th>\n",
              "      <th>proto</th>\n",
              "      <th>state</th>\n",
              "      <th>spkts</th>\n",
              "      <th>dpkts</th>\n",
              "      <th>sbytes</th>\n",
              "      <th>dbytes</th>\n",
              "      <th>rate</th>\n",
              "      <th>sttl</th>\n",
              "      <th>dttl</th>\n",
              "      <th>sload</th>\n",
              "      <th>dload</th>\n",
              "      <th>sloss</th>\n",
              "      <th>dloss</th>\n",
              "      <th>sinpkt</th>\n",
              "      <th>dinpkt</th>\n",
              "      <th>sjit</th>\n",
              "      <th>djit</th>\n",
              "      <th>swin</th>\n",
              "      <th>stcpb</th>\n",
              "      <th>dtcpb</th>\n",
              "      <th>dwin</th>\n",
              "      <th>tcprtt</th>\n",
              "      <th>synack</th>\n",
              "      <th>ackdat</th>\n",
              "      <th>smean</th>\n",
              "      <th>dmean</th>\n",
              "      <th>trans_depth</th>\n",
              "      <th>response_body_len</th>\n",
              "      <th>ct_srv_src</th>\n",
              "      <th>ct_state_ttl</th>\n",
              "      <th>ct_dst_ltm</th>\n",
              "      <th>ct_src_dport_ltm</th>\n",
              "      <th>ct_dst_sport_ltm</th>\n",
              "      <th>ct_dst_src_ltm</th>\n",
              "      <th>is_ftp_login</th>\n",
              "      <th>ct_ftp_cmd</th>\n",
              "      <th>ct_flw_http_mthd</th>\n",
              "      <th>ct_src_ltm</th>\n",
              "      <th>ct_srv_dst</th>\n",
              "      <th>is_sm_ips_ports</th>\n",
              "      <th>attack_cat</th>\n",
              "      <th>label</th>\n",
              "    </tr>\n",
              "  </thead>\n",
              "  <tbody>\n",
              "    <tr>\n",
              "      <th>0</th>\n",
              "      <td>0</td>\n",
              "      <td>113</td>\n",
              "      <td>2</td>\n",
              "      <td>6</td>\n",
              "      <td>4</td>\n",
              "      <td>258</td>\n",
              "      <td>172</td>\n",
              "      <td>74</td>\n",
              "      <td>252</td>\n",
              "      <td>254</td>\n",
              "      <td>14158</td>\n",
              "      <td>8495</td>\n",
              "      <td>0</td>\n",
              "      <td>0</td>\n",
              "      <td>24</td>\n",
              "      <td>8</td>\n",
              "      <td>30</td>\n",
              "      <td>11</td>\n",
              "      <td>255</td>\n",
              "      <td>621772692</td>\n",
              "      <td>2202533631</td>\n",
              "      <td>255</td>\n",
              "      <td>0</td>\n",
              "      <td>0</td>\n",
              "      <td>0</td>\n",
              "      <td>43</td>\n",
              "      <td>43</td>\n",
              "      <td>0</td>\n",
              "      <td>0</td>\n",
              "      <td>1</td>\n",
              "      <td>0</td>\n",
              "      <td>1</td>\n",
              "      <td>1</td>\n",
              "      <td>1</td>\n",
              "      <td>1</td>\n",
              "      <td>0</td>\n",
              "      <td>0</td>\n",
              "      <td>0</td>\n",
              "      <td>1</td>\n",
              "      <td>1</td>\n",
              "      <td>0</td>\n",
              "      <td>0</td>\n",
              "      <td>0</td>\n",
              "    </tr>\n",
              "    <tr>\n",
              "      <th>1</th>\n",
              "      <td>0</td>\n",
              "      <td>113</td>\n",
              "      <td>2</td>\n",
              "      <td>14</td>\n",
              "      <td>38</td>\n",
              "      <td>734</td>\n",
              "      <td>42014</td>\n",
              "      <td>78</td>\n",
              "      <td>62</td>\n",
              "      <td>252</td>\n",
              "      <td>8395</td>\n",
              "      <td>503571</td>\n",
              "      <td>2</td>\n",
              "      <td>17</td>\n",
              "      <td>49</td>\n",
              "      <td>15</td>\n",
              "      <td>61</td>\n",
              "      <td>1387</td>\n",
              "      <td>255</td>\n",
              "      <td>1417884146</td>\n",
              "      <td>3077387971</td>\n",
              "      <td>255</td>\n",
              "      <td>0</td>\n",
              "      <td>0</td>\n",
              "      <td>0</td>\n",
              "      <td>52</td>\n",
              "      <td>1106</td>\n",
              "      <td>0</td>\n",
              "      <td>0</td>\n",
              "      <td>43</td>\n",
              "      <td>1</td>\n",
              "      <td>1</td>\n",
              "      <td>1</td>\n",
              "      <td>1</td>\n",
              "      <td>2</td>\n",
              "      <td>0</td>\n",
              "      <td>0</td>\n",
              "      <td>0</td>\n",
              "      <td>1</td>\n",
              "      <td>6</td>\n",
              "      <td>0</td>\n",
              "      <td>0</td>\n",
              "      <td>0</td>\n",
              "    </tr>\n",
              "    <tr>\n",
              "      <th>2</th>\n",
              "      <td>1</td>\n",
              "      <td>113</td>\n",
              "      <td>2</td>\n",
              "      <td>8</td>\n",
              "      <td>16</td>\n",
              "      <td>364</td>\n",
              "      <td>13186</td>\n",
              "      <td>14</td>\n",
              "      <td>62</td>\n",
              "      <td>252</td>\n",
              "      <td>1572</td>\n",
              "      <td>60929</td>\n",
              "      <td>1</td>\n",
              "      <td>6</td>\n",
              "      <td>231</td>\n",
              "      <td>102</td>\n",
              "      <td>17179</td>\n",
              "      <td>11420</td>\n",
              "      <td>255</td>\n",
              "      <td>2116150707</td>\n",
              "      <td>2963114973</td>\n",
              "      <td>255</td>\n",
              "      <td>0</td>\n",
              "      <td>0</td>\n",
              "      <td>0</td>\n",
              "      <td>46</td>\n",
              "      <td>824</td>\n",
              "      <td>0</td>\n",
              "      <td>0</td>\n",
              "      <td>7</td>\n",
              "      <td>1</td>\n",
              "      <td>2</td>\n",
              "      <td>1</td>\n",
              "      <td>1</td>\n",
              "      <td>3</td>\n",
              "      <td>0</td>\n",
              "      <td>0</td>\n",
              "      <td>0</td>\n",
              "      <td>2</td>\n",
              "      <td>6</td>\n",
              "      <td>0</td>\n",
              "      <td>0</td>\n",
              "      <td>0</td>\n",
              "    </tr>\n",
              "    <tr>\n",
              "      <th>3</th>\n",
              "      <td>1</td>\n",
              "      <td>113</td>\n",
              "      <td>2</td>\n",
              "      <td>12</td>\n",
              "      <td>12</td>\n",
              "      <td>628</td>\n",
              "      <td>770</td>\n",
              "      <td>13</td>\n",
              "      <td>62</td>\n",
              "      <td>252</td>\n",
              "      <td>2740</td>\n",
              "      <td>3358</td>\n",
              "      <td>1</td>\n",
              "      <td>3</td>\n",
              "      <td>152</td>\n",
              "      <td>90</td>\n",
              "      <td>259</td>\n",
              "      <td>4991</td>\n",
              "      <td>255</td>\n",
              "      <td>1107119177</td>\n",
              "      <td>1047442890</td>\n",
              "      <td>255</td>\n",
              "      <td>0</td>\n",
              "      <td>0</td>\n",
              "      <td>0</td>\n",
              "      <td>52</td>\n",
              "      <td>64</td>\n",
              "      <td>0</td>\n",
              "      <td>0</td>\n",
              "      <td>1</td>\n",
              "      <td>1</td>\n",
              "      <td>2</td>\n",
              "      <td>1</td>\n",
              "      <td>1</td>\n",
              "      <td>3</td>\n",
              "      <td>1</td>\n",
              "      <td>1</td>\n",
              "      <td>0</td>\n",
              "      <td>2</td>\n",
              "      <td>1</td>\n",
              "      <td>0</td>\n",
              "      <td>0</td>\n",
              "      <td>0</td>\n",
              "    </tr>\n",
              "    <tr>\n",
              "      <th>4</th>\n",
              "      <td>0</td>\n",
              "      <td>113</td>\n",
              "      <td>2</td>\n",
              "      <td>10</td>\n",
              "      <td>6</td>\n",
              "      <td>534</td>\n",
              "      <td>268</td>\n",
              "      <td>33</td>\n",
              "      <td>254</td>\n",
              "      <td>252</td>\n",
              "      <td>8561</td>\n",
              "      <td>3987</td>\n",
              "      <td>2</td>\n",
              "      <td>1</td>\n",
              "      <td>47</td>\n",
              "      <td>75</td>\n",
              "      <td>2415</td>\n",
              "      <td>115</td>\n",
              "      <td>255</td>\n",
              "      <td>2436137549</td>\n",
              "      <td>1977154190</td>\n",
              "      <td>255</td>\n",
              "      <td>0</td>\n",
              "      <td>0</td>\n",
              "      <td>0</td>\n",
              "      <td>53</td>\n",
              "      <td>45</td>\n",
              "      <td>0</td>\n",
              "      <td>0</td>\n",
              "      <td>43</td>\n",
              "      <td>1</td>\n",
              "      <td>2</td>\n",
              "      <td>2</td>\n",
              "      <td>1</td>\n",
              "      <td>40</td>\n",
              "      <td>0</td>\n",
              "      <td>0</td>\n",
              "      <td>0</td>\n",
              "      <td>2</td>\n",
              "      <td>39</td>\n",
              "      <td>0</td>\n",
              "      <td>0</td>\n",
              "      <td>0</td>\n",
              "    </tr>\n",
              "    <tr>\n",
              "      <th>...</th>\n",
              "      <td>...</td>\n",
              "      <td>...</td>\n",
              "      <td>...</td>\n",
              "      <td>...</td>\n",
              "      <td>...</td>\n",
              "      <td>...</td>\n",
              "      <td>...</td>\n",
              "      <td>...</td>\n",
              "      <td>...</td>\n",
              "      <td>...</td>\n",
              "      <td>...</td>\n",
              "      <td>...</td>\n",
              "      <td>...</td>\n",
              "      <td>...</td>\n",
              "      <td>...</td>\n",
              "      <td>...</td>\n",
              "      <td>...</td>\n",
              "      <td>...</td>\n",
              "      <td>...</td>\n",
              "      <td>...</td>\n",
              "      <td>...</td>\n",
              "      <td>...</td>\n",
              "      <td>...</td>\n",
              "      <td>...</td>\n",
              "      <td>...</td>\n",
              "      <td>...</td>\n",
              "      <td>...</td>\n",
              "      <td>...</td>\n",
              "      <td>...</td>\n",
              "      <td>...</td>\n",
              "      <td>...</td>\n",
              "      <td>...</td>\n",
              "      <td>...</td>\n",
              "      <td>...</td>\n",
              "      <td>...</td>\n",
              "      <td>...</td>\n",
              "      <td>...</td>\n",
              "      <td>...</td>\n",
              "      <td>...</td>\n",
              "      <td>...</td>\n",
              "      <td>...</td>\n",
              "      <td>...</td>\n",
              "      <td>...</td>\n",
              "    </tr>\n",
              "    <tr>\n",
              "      <th>175214</th>\n",
              "      <td>0</td>\n",
              "      <td>113</td>\n",
              "      <td>2</td>\n",
              "      <td>22</td>\n",
              "      <td>56</td>\n",
              "      <td>2424</td>\n",
              "      <td>68382</td>\n",
              "      <td>77</td>\n",
              "      <td>62</td>\n",
              "      <td>252</td>\n",
              "      <td>18717</td>\n",
              "      <td>543250</td>\n",
              "      <td>6</td>\n",
              "      <td>26</td>\n",
              "      <td>47</td>\n",
              "      <td>17</td>\n",
              "      <td>2347</td>\n",
              "      <td>1589</td>\n",
              "      <td>255</td>\n",
              "      <td>3903615664</td>\n",
              "      <td>3345025299</td>\n",
              "      <td>255</td>\n",
              "      <td>0</td>\n",
              "      <td>0</td>\n",
              "      <td>0</td>\n",
              "      <td>110</td>\n",
              "      <td>1221</td>\n",
              "      <td>1</td>\n",
              "      <td>109</td>\n",
              "      <td>1</td>\n",
              "      <td>1</td>\n",
              "      <td>1</td>\n",
              "      <td>1</td>\n",
              "      <td>1</td>\n",
              "      <td>1</td>\n",
              "      <td>0</td>\n",
              "      <td>0</td>\n",
              "      <td>1</td>\n",
              "      <td>21</td>\n",
              "      <td>1</td>\n",
              "      <td>0</td>\n",
              "      <td>1</td>\n",
              "      <td>1</td>\n",
              "    </tr>\n",
              "    <tr>\n",
              "      <th>175267</th>\n",
              "      <td>1</td>\n",
              "      <td>113</td>\n",
              "      <td>2</td>\n",
              "      <td>74</td>\n",
              "      <td>30</td>\n",
              "      <td>69997</td>\n",
              "      <td>2132</td>\n",
              "      <td>53</td>\n",
              "      <td>62</td>\n",
              "      <td>252</td>\n",
              "      <td>288572</td>\n",
              "      <td>8613</td>\n",
              "      <td>33</td>\n",
              "      <td>8</td>\n",
              "      <td>26</td>\n",
              "      <td>65</td>\n",
              "      <td>2412</td>\n",
              "      <td>90</td>\n",
              "      <td>255</td>\n",
              "      <td>556303757</td>\n",
              "      <td>246088519</td>\n",
              "      <td>255</td>\n",
              "      <td>0</td>\n",
              "      <td>0</td>\n",
              "      <td>0</td>\n",
              "      <td>946</td>\n",
              "      <td>71</td>\n",
              "      <td>0</td>\n",
              "      <td>0</td>\n",
              "      <td>1</td>\n",
              "      <td>1</td>\n",
              "      <td>1</td>\n",
              "      <td>1</td>\n",
              "      <td>1</td>\n",
              "      <td>1</td>\n",
              "      <td>0</td>\n",
              "      <td>0</td>\n",
              "      <td>0</td>\n",
              "      <td>18</td>\n",
              "      <td>1</td>\n",
              "      <td>0</td>\n",
              "      <td>1</td>\n",
              "      <td>1</td>\n",
              "    </tr>\n",
              "    <tr>\n",
              "      <th>175277</th>\n",
              "      <td>3</td>\n",
              "      <td>113</td>\n",
              "      <td>2</td>\n",
              "      <td>66</td>\n",
              "      <td>340</td>\n",
              "      <td>3086</td>\n",
              "      <td>426483</td>\n",
              "      <td>108</td>\n",
              "      <td>62</td>\n",
              "      <td>252</td>\n",
              "      <td>6539</td>\n",
              "      <td>914689</td>\n",
              "      <td>6</td>\n",
              "      <td>167</td>\n",
              "      <td>57</td>\n",
              "      <td>10</td>\n",
              "      <td>3358</td>\n",
              "      <td>1585</td>\n",
              "      <td>255</td>\n",
              "      <td>3046870123</td>\n",
              "      <td>1723342386</td>\n",
              "      <td>255</td>\n",
              "      <td>0</td>\n",
              "      <td>0</td>\n",
              "      <td>0</td>\n",
              "      <td>47</td>\n",
              "      <td>1254</td>\n",
              "      <td>0</td>\n",
              "      <td>0</td>\n",
              "      <td>1</td>\n",
              "      <td>1</td>\n",
              "      <td>1</td>\n",
              "      <td>1</td>\n",
              "      <td>1</td>\n",
              "      <td>1</td>\n",
              "      <td>0</td>\n",
              "      <td>0</td>\n",
              "      <td>0</td>\n",
              "      <td>2</td>\n",
              "      <td>1</td>\n",
              "      <td>0</td>\n",
              "      <td>1</td>\n",
              "      <td>1</td>\n",
              "    </tr>\n",
              "    <tr>\n",
              "      <th>175299</th>\n",
              "      <td>0</td>\n",
              "      <td>113</td>\n",
              "      <td>2</td>\n",
              "      <td>20</td>\n",
              "      <td>30</td>\n",
              "      <td>942</td>\n",
              "      <td>16684</td>\n",
              "      <td>49</td>\n",
              "      <td>62</td>\n",
              "      <td>252</td>\n",
              "      <td>7185</td>\n",
              "      <td>129476</td>\n",
              "      <td>7</td>\n",
              "      <td>13</td>\n",
              "      <td>52</td>\n",
              "      <td>33</td>\n",
              "      <td>3005</td>\n",
              "      <td>2479</td>\n",
              "      <td>255</td>\n",
              "      <td>5604755</td>\n",
              "      <td>575257391</td>\n",
              "      <td>255</td>\n",
              "      <td>0</td>\n",
              "      <td>0</td>\n",
              "      <td>0</td>\n",
              "      <td>47</td>\n",
              "      <td>556</td>\n",
              "      <td>0</td>\n",
              "      <td>0</td>\n",
              "      <td>1</td>\n",
              "      <td>1</td>\n",
              "      <td>1</td>\n",
              "      <td>1</td>\n",
              "      <td>1</td>\n",
              "      <td>1</td>\n",
              "      <td>0</td>\n",
              "      <td>0</td>\n",
              "      <td>0</td>\n",
              "      <td>7</td>\n",
              "      <td>1</td>\n",
              "      <td>0</td>\n",
              "      <td>1</td>\n",
              "      <td>1</td>\n",
              "    </tr>\n",
              "    <tr>\n",
              "      <th>175305</th>\n",
              "      <td>1</td>\n",
              "      <td>113</td>\n",
              "      <td>2</td>\n",
              "      <td>28</td>\n",
              "      <td>22</td>\n",
              "      <td>12601</td>\n",
              "      <td>1954</td>\n",
              "      <td>31</td>\n",
              "      <td>62</td>\n",
              "      <td>252</td>\n",
              "      <td>62427</td>\n",
              "      <td>9586</td>\n",
              "      <td>11</td>\n",
              "      <td>8</td>\n",
              "      <td>57</td>\n",
              "      <td>73</td>\n",
              "      <td>3661</td>\n",
              "      <td>112</td>\n",
              "      <td>255</td>\n",
              "      <td>1932059121</td>\n",
              "      <td>2472223109</td>\n",
              "      <td>255</td>\n",
              "      <td>0</td>\n",
              "      <td>0</td>\n",
              "      <td>0</td>\n",
              "      <td>450</td>\n",
              "      <td>89</td>\n",
              "      <td>0</td>\n",
              "      <td>0</td>\n",
              "      <td>1</td>\n",
              "      <td>1</td>\n",
              "      <td>2</td>\n",
              "      <td>1</td>\n",
              "      <td>1</td>\n",
              "      <td>2</td>\n",
              "      <td>0</td>\n",
              "      <td>0</td>\n",
              "      <td>0</td>\n",
              "      <td>2</td>\n",
              "      <td>1</td>\n",
              "      <td>0</td>\n",
              "      <td>1</td>\n",
              "      <td>1</td>\n",
              "    </tr>\n",
              "  </tbody>\n",
              "</table>\n",
              "<p>101884 rows × 43 columns</p>\n",
              "</div>"
            ],
            "text/plain": [
              "        dur  proto  state  ...  is_sm_ips_ports  attack_cat  label\n",
              "0         0    113      2  ...                0           0      0\n",
              "1         0    113      2  ...                0           0      0\n",
              "2         1    113      2  ...                0           0      0\n",
              "3         1    113      2  ...                0           0      0\n",
              "4         0    113      2  ...                0           0      0\n",
              "...     ...    ...    ...  ...              ...         ...    ...\n",
              "175214    0    113      2  ...                0           1      1\n",
              "175267    1    113      2  ...                0           1      1\n",
              "175277    3    113      2  ...                0           1      1\n",
              "175299    0    113      2  ...                0           1      1\n",
              "175305    1    113      2  ...                0           1      1\n",
              "\n",
              "[101884 rows x 43 columns]"
            ]
          },
          "metadata": {
            "tags": []
          },
          "execution_count": 23
        }
      ]
    },
    {
      "cell_type": "code",
      "metadata": {
        "colab": {
          "base_uri": "https://localhost:8080/"
        },
        "id": "0kn_199WFORh",
        "outputId": "40bddb89-34bb-402e-e316-1a3e4a0dacbe"
      },
      "source": [
        "data.info()"
      ],
      "execution_count": 24,
      "outputs": [
        {
          "output_type": "stream",
          "text": [
            "<class 'pandas.core.frame.DataFrame'>\n",
            "Int64Index: 101884 entries, 0 to 175305\n",
            "Data columns (total 43 columns):\n",
            " #   Column             Non-Null Count   Dtype\n",
            "---  ------             --------------   -----\n",
            " 0   dur                101884 non-null  int64\n",
            " 1   proto              101884 non-null  int64\n",
            " 2   state              101884 non-null  int64\n",
            " 3   spkts              101884 non-null  int64\n",
            " 4   dpkts              101884 non-null  int64\n",
            " 5   sbytes             101884 non-null  int64\n",
            " 6   dbytes             101884 non-null  int64\n",
            " 7   rate               101884 non-null  int64\n",
            " 8   sttl               101884 non-null  int64\n",
            " 9   dttl               101884 non-null  int64\n",
            " 10  sload              101884 non-null  int64\n",
            " 11  dload              101884 non-null  int64\n",
            " 12  sloss              101884 non-null  int64\n",
            " 13  dloss              101884 non-null  int64\n",
            " 14  sinpkt             101884 non-null  int64\n",
            " 15  dinpkt             101884 non-null  int64\n",
            " 16  sjit               101884 non-null  int64\n",
            " 17  djit               101884 non-null  int64\n",
            " 18  swin               101884 non-null  int64\n",
            " 19  stcpb              101884 non-null  int64\n",
            " 20  dtcpb              101884 non-null  int64\n",
            " 21  dwin               101884 non-null  int64\n",
            " 22  tcprtt             101884 non-null  int64\n",
            " 23  synack             101884 non-null  int64\n",
            " 24  ackdat             101884 non-null  int64\n",
            " 25  smean              101884 non-null  int64\n",
            " 26  dmean              101884 non-null  int64\n",
            " 27  trans_depth        101884 non-null  int64\n",
            " 28  response_body_len  101884 non-null  int64\n",
            " 29  ct_srv_src         101884 non-null  int64\n",
            " 30  ct_state_ttl       101884 non-null  int64\n",
            " 31  ct_dst_ltm         101884 non-null  int64\n",
            " 32  ct_src_dport_ltm   101884 non-null  int64\n",
            " 33  ct_dst_sport_ltm   101884 non-null  int64\n",
            " 34  ct_dst_src_ltm     101884 non-null  int64\n",
            " 35  is_ftp_login       101884 non-null  int64\n",
            " 36  ct_ftp_cmd         101884 non-null  int64\n",
            " 37  ct_flw_http_mthd   101884 non-null  int64\n",
            " 38  ct_src_ltm         101884 non-null  int64\n",
            " 39  ct_srv_dst         101884 non-null  int64\n",
            " 40  is_sm_ips_ports    101884 non-null  int64\n",
            " 41  attack_cat         101884 non-null  int64\n",
            " 42  label              101884 non-null  int64\n",
            "dtypes: int64(43)\n",
            "memory usage: 39.2 MB\n"
          ],
          "name": "stdout"
        }
      ]
    },
    {
      "cell_type": "code",
      "metadata": {
        "colab": {
          "base_uri": "https://localhost:8080/",
          "height": 520
        },
        "id": "tnXRK1TWFCKY",
        "outputId": "e63657be-8d3f-4972-8aca-cf7b05bd0180"
      },
      "source": [
        "import matplotlib.pyplot as plt\n",
        "data.plot(kind='box', figsize=(30,10),rot=90)\n",
        "plt.show()"
      ],
      "execution_count": 25,
      "outputs": [
        {
          "output_type": "display_data",
          "data": {
            "image/png": "[encoded data removed]",
            "text/plain": [
              "<Figure size 2160x720 with 1 Axes>"
            ]
          },
          "metadata": {
            "tags": [],
            "needs_background": "light"
          }
        }
      ]
    },
    {
      "cell_type": "code",
      "metadata": {
        "id": "UTAYf5vPGAIq"
      },
      "source": [
        "data=data.drop(['sload'],axis=1)\n",
        "data=data.drop(['dload'],axis=1)"
      ],
      "execution_count": 26,
      "outputs": []
    },
    {
      "cell_type": "code",
      "metadata": {
        "id": "tU3VwVox0ZnH"
      },
      "source": [
        "target = data['label']"
      ],
      "execution_count": 27,
      "outputs": []
    },
    {
      "cell_type": "code",
      "metadata": {
        "colab": {
          "base_uri": "https://localhost:8080/"
        },
        "id": "ArN5hIr8Gpls",
        "outputId": "b87a461b-c186-479c-f0bd-ce35ce1fed4e"
      },
      "source": [
        "# Find and remove correlated features\n",
        "def correlation(dataset, threshold):\n",
        "    col_corr = set()  # Set of all the names of correlated columns\n",
        "    corr_matrix = dataset.corr()\n",
        "    for i in range(len(corr_matrix.columns)):\n",
        "        for j in range(i):\n",
        "            if abs(corr_matrix.iloc[i, j]) > threshold: # we are interested in absolute coeff value\n",
        "                colname = corr_matrix.columns[i]  # getting the name of column\n",
        "                col_corr.add(colname)\n",
        "    return col_corr\n",
        " \n",
        "corr_features = correlation(data, 0.8)\n",
        "print('correlated features: ', set(corr_features) )"
      ],
      "execution_count": 28,
      "outputs": [
        {
          "output_type": "stream",
          "text": [
            "correlated features:  {'sbytes', 'label', 'dbytes', 'dwin', 'sloss', 'dloss', 'ct_srv_dst', 'is_sm_ips_ports', 'ct_ftp_cmd'}\n"
          ],
          "name": "stdout"
        }
      ]
    },
    {
      "cell_type": "code",
      "metadata": {
        "id": "3HAmRH42JbO-"
      },
      "source": [
        "data.drop(labels=corr_features, axis=1, inplace=True)"
      ],
      "execution_count": 29,
      "outputs": []
    },
    {
      "cell_type": "code",
      "metadata": {
        "id": "BWJlIDY9aryC"
      },
      "source": [
        "data.drop([\"attack_cat\"], axis=1, inplace=True)"
      ],
      "execution_count": 30,
      "outputs": []
    },
    {
      "cell_type": "code",
      "metadata": {
        "id": "c1GE-lnyXNJp"
      },
      "source": [
        "features = data\n",
        "X_Train,X_Test,Y_Train,Y_Test=train_test_split(features,target,test_size = 0.2,random_state=42)"
      ],
      "execution_count": 31,
      "outputs": []
    },
    {
      "cell_type": "code",
      "metadata": {
        "colab": {
          "base_uri": "https://localhost:8080/"
        },
        "id": "7wNQkTd2GduE",
        "outputId": "27cfe82d-4977-481c-ab63-5e944a0dec66"
      },
      "source": [
        "X = X_Train\n",
        "Y = Y_Train\n",
        "C = Y_Test\n",
        "T = X_Test\n",
        "print(T)\n",
        "print(X)"
      ],
      "execution_count": 32,
      "outputs": [
        {
          "output_type": "stream",
          "text": [
            "       dur  proto  state  ...  is_ftp_login  ct_flw_http_mthd  ct_src_ltm\n",
            "2339     0    113      2  ...             0                 0           8\n",
            "43641    0    113      2  ...             0                 0           1\n",
            "10538    0    113      2  ...             0                 0           8\n",
            "85617    0    120      3  ...             0                 0           6\n",
            "6662     0    119      0  ...             0                 0           2\n",
            "...    ...    ...    ...  ...           ...               ...         ...\n",
            "2824     0    119      0  ...             0                 0           2\n",
            "51896    0    113      2  ...             0                 0           1\n",
            "20424    0    119      0  ...             0                 0           3\n",
            "63675    0    113      2  ...             0                 1           3\n",
            "80526    1    113      2  ...             0                 0           2\n",
            "\n",
            "[20377 rows x 31 columns]\n",
            "        dur  proto  state  ...  is_ftp_login  ct_flw_http_mthd  ct_src_ltm\n",
            "119548    0     97      0  ...             0                 0           1\n",
            "105882    0    113      2  ...             0                 1           1\n",
            "18600     0    113      2  ...             0                 0           4\n",
            "15274     0    113      2  ...             0                 0           2\n",
            "39158     0    113      2  ...             0                 0          10\n",
            "...     ...    ...    ...  ...           ...               ...         ...\n",
            "6265      1    113      2  ...             0                 1           3\n",
            "60633     0    119      3  ...             0                 0           1\n",
            "94762     1    113      2  ...             0                 1           1\n",
            "860       0    113      2  ...             0                 1          12\n",
            "15795     0    119      0  ...             0                 0           4\n",
            "\n",
            "[81507 rows x 31 columns]\n"
          ],
          "name": "stdout"
        }
      ]
    },
    {
      "cell_type": "code",
      "metadata": {
        "id": "nM7uzs-6Guev"
      },
      "source": [
        "from sklearn.preprocessing import StandardScaler\n",
        "scaler = StandardScaler()\n",
        "# transform data\n",
        "trainX = scaler.fit_transform(X)\n",
        "# summarize transformed data\n",
        "np.set_printoptions(precision=3)\n",
        "#print(trainX[0:5,:])"
      ],
      "execution_count": 33,
      "outputs": []
    },
    {
      "cell_type": "code",
      "metadata": {
        "id": "NI8y7jmkG2KI"
      },
      "source": [
        "scaler = StandardScaler()\n",
        "# transform data\n",
        "testT = scaler.fit_transform(T)\n",
        "# summarize transformed data\n",
        "np.set_printoptions(precision=3)\n",
        "#print(testT[0:5,:])"
      ],
      "execution_count": 34,
      "outputs": []
    },
    {
      "cell_type": "code",
      "metadata": {
        "id": "bDlBO3PaG9NN"
      },
      "source": [
        "y_train = np.array(Y)\n",
        "y_test = np.array(C)"
      ],
      "execution_count": 35,
      "outputs": []
    },
    {
      "cell_type": "markdown",
      "metadata": {
        "id": "WWv0rBqn1Ult"
      },
      "source": [
        "## **CNN Algorithm**"
      ]
    },
    {
      "cell_type": "code",
      "metadata": {
        "id": "2DP4rzJ81OmR"
      },
      "source": [
        "from __future__ import print_function\n",
        "import numpy as np\n",
        "np.random.seed(1337)  # for reproducibility\n",
        "\n",
        "from keras.preprocessing import sequence\n",
        "from keras.models import Sequential\n",
        "from keras.layers import Dense, Dropout, Activation, Lambda\n",
        "from keras.layers import Embedding\n",
        "from keras.layers import Convolution1D,MaxPooling1D, Flatten\n",
        "from keras.datasets import imdb\n",
        "from keras import backend as K\n",
        "import pandas as pd\n",
        "from keras.utils.np_utils import to_categorical\n",
        "\n",
        "from sklearn.preprocessing import Normalizer\n",
        "from keras.models import Sequential\n",
        "from keras.layers import Convolution1D, Dense, Dropout, Flatten, MaxPooling1D\n",
        "from keras.utils import np_utils\n",
        "import numpy as np\n",
        "import h5py\n",
        "from keras import callbacks\n",
        "from keras.layers import LSTM, GRU, SimpleRNN\n",
        "from keras.callbacks import CSVLogger\n",
        "from keras.callbacks import ModelCheckpoint, EarlyStopping, ReduceLROnPlateau, CSVLogger\n",
        "from keras.layers.convolutional import MaxPooling1D"
      ],
      "execution_count": 63,
      "outputs": []
    },
    {
      "cell_type": "code",
      "metadata": {
        "colab": {
          "base_uri": "https://localhost:8080/"
        },
        "id": "fyev_zUo1eNf",
        "outputId": "2648814f-bcc9-4b92-ec50-8005a8bff9cd"
      },
      "source": [
        "lstm_output_size = 128\n",
        "\n",
        "cnn = Sequential()\n",
        "cnn.add(Convolution1D(64, 3, padding=\"same\",activation=\"relu\",input_shape=(31,1)))\n",
        "cnn.add(MaxPooling1D(pool_size=(2)))\n",
        "cnn.add(Flatten())\n",
        "cnn.add(Dense(128, activation=\"relu\"))\n",
        "cnn.add(Dropout(0.1))\n",
        "cnn.add(Dense(1, activation=\"sigmoid\"))\n",
        "print(cnn.summary())"
      ],
      "execution_count": 64,
      "outputs": [
        {
          "output_type": "stream",
          "text": [
            "Model: \"sequential_1\"\n",
            "_________________________________________________________________\n",
            "Layer (type)                 Output Shape              Param #   \n",
            "=================================================================\n",
            "conv1d_1 (Conv1D)            (None, 31, 64)            256       \n",
            "_________________________________________________________________\n",
            "max_pooling1d_1 (MaxPooling1 (None, 15, 64)            0         \n",
            "_________________________________________________________________\n",
            "flatten_1 (Flatten)          (None, 960)               0         \n",
            "_________________________________________________________________\n",
            "dense_2 (Dense)              (None, 128)               123008    \n",
            "_________________________________________________________________\n",
            "dropout_1 (Dropout)          (None, 128)               0         \n",
            "_________________________________________________________________\n",
            "dense_3 (Dense)              (None, 1)                 129       \n",
            "=================================================================\n",
            "Total params: 123,393\n",
            "Trainable params: 123,393\n",
            "Non-trainable params: 0\n",
            "_________________________________________________________________\n",
            "None\n"
          ],
          "name": "stdout"
        }
      ]
    },
    {
      "cell_type": "code",
      "metadata": {
        "colab": {
          "base_uri": "https://localhost:8080/"
        },
        "id": "QiUd3U0I1hML",
        "outputId": "b737154f-c8fc-4c1b-f828-9dfcfbd26cff"
      },
      "source": [
        "X_train = np.reshape(trainX, (trainX.shape[0], trainX.shape[1],1))\n",
        "X_test = np.reshape(testT, (testT.shape[0], testT.shape[1],1))\n",
        "cnn.compile(loss=\"binary_crossentropy\", optimizer=\"adam\",metrics=['accuracy'])\n",
        "cnn.fit(X_train, y_train,epochs=10)"
      ],
      "execution_count": 65,
      "outputs": [
        {
          "output_type": "stream",
          "text": [
            "Epoch 1/10\n",
            "2548/2548 [==============================] - 12s 4ms/step - loss: 0.1636 - accuracy: 0.9366\n",
            "Epoch 2/10\n",
            "2548/2548 [==============================] - 11s 4ms/step - loss: 0.0830 - accuracy: 0.9707\n",
            "Epoch 3/10\n",
            "2548/2548 [==============================] - 11s 4ms/step - loss: 0.0749 - accuracy: 0.9726\n",
            "Epoch 4/10\n",
            "2548/2548 [==============================] - 11s 4ms/step - loss: 0.0704 - accuracy: 0.9741\n",
            "Epoch 5/10\n",
            "2548/2548 [==============================] - 11s 4ms/step - loss: 0.0653 - accuracy: 0.9757\n",
            "Epoch 6/10\n",
            "2548/2548 [==============================] - 11s 4ms/step - loss: 0.0658 - accuracy: 0.9757\n",
            "Epoch 7/10\n",
            "2548/2548 [==============================] - 11s 4ms/step - loss: 0.0637 - accuracy: 0.9762\n",
            "Epoch 8/10\n",
            "2548/2548 [==============================] - 11s 4ms/step - loss: 0.0629 - accuracy: 0.9760\n",
            "Epoch 9/10\n",
            "2548/2548 [==============================] - 11s 4ms/step - loss: 0.0623 - accuracy: 0.9755\n",
            "Epoch 10/10\n",
            "2548/2548 [==============================] - 11s 4ms/step - loss: 0.0604 - accuracy: 0.9774\n"
          ],
          "name": "stdout"
        },
        {
          "output_type": "execute_result",
          "data": {
            "text/plain": [
              "<keras.callbacks.History at 0x7f9ffb717610>"
            ]
          },
          "metadata": {
            "tags": []
          },
          "execution_count": 65
        }
      ]
    },
    {
      "cell_type": "code",
      "metadata": {
        "colab": {
          "base_uri": "https://localhost:8080/"
        },
        "id": "aW1DJbAi2HZE",
        "outputId": "72943eee-a1b5-4cce-d8ec-015afb772ca5"
      },
      "source": [
        "loss, accuracy = cnn.evaluate(X_train, y_train)\n",
        "print(\"Training Accuracy: %.2f%%\" % (accuracy*100))"
      ],
      "execution_count": 67,
      "outputs": [
        {
          "output_type": "stream",
          "text": [
            "2548/2548 [==============================] - 4s 2ms/step - loss: 0.0561 - accuracy: 0.9783\n",
            "Training Accuracy: 97.83%\n"
          ],
          "name": "stdout"
        }
      ]
    },
    {
      "cell_type": "code",
      "metadata": {
        "colab": {
          "base_uri": "https://localhost:8080/"
        },
        "id": "m-r9VBgK2szg",
        "outputId": "170980a9-390a-42de-b5aa-25005902189e"
      },
      "source": [
        "loss, accuracy = cnn.evaluate(X_test, y_test)\n",
        "print(\"Testing Accuracy: %.2f%%\" % (accuracy*100))"
      ],
      "execution_count": 68,
      "outputs": [
        {
          "output_type": "stream",
          "text": [
            "637/637 [==============================] - 1s 2ms/step - loss: 0.0643 - accuracy: 0.9747\n",
            "Testing Accuracy: 97.47%\n"
          ],
          "name": "stdout"
        }
      ]
    },
    {
      "cell_type": "code",
      "metadata": {
        "colab": {
          "base_uri": "https://localhost:8080/"
        },
        "id": "TvfG1dHW2174",
        "outputId": "50418014-c4d3-4df7-bff8-6d42bc6cfe7c"
      },
      "source": [
        "from sklearn.metrics import confusion_matrix\n",
        "from sklearn.metrics import accuracy_score, recall_score, precision_score, f1_score\n",
        "y_pred = cnn.predict_classes(X_test)\n",
        "np.savetxt('/content/drive/MyDrive/expected.txt', y_test, fmt='%01d')\n",
        "np.savetxt('/content/drive/MyDrive/predicted.txt', y_pred, fmt='%01d')\n",
        "cnn_accuracy = accuracy_score(y_test, y_pred)\n",
        "cnn_error = (1- cnn_accuracy)*100\n",
        "cnn_recall = recall_score(y_test, y_pred , average=\"binary\")\n",
        "cnn_precision = precision_score(y_test, y_pred , average=\"binary\")\n",
        "cnn_f1 = f1_score(y_test, y_pred, average=\"binary\")\n",
        "\n",
        "print(\"confusion matrix\")\n",
        "print(\"----------------------------------------------\")\n",
        "print(\"accuracy\")\n",
        "print(\"%.6f\" %cnn_accuracy)\n",
        "print(\"racall\")\n",
        "print(\"%.6f\" %cnn_recall)\n",
        "print(\"precision\")\n",
        "print(\"%.6f\" %cnn_precision)\n",
        "print(\"f1score\")\n",
        "print(\"%.6f\" %cnn_f1)\n",
        "cm = confusion_matrix(y_test, y_pred)\n",
        "print(cm)\n",
        "print(\"==============================================\")"
      ],
      "execution_count": 69,
      "outputs": [
        {
          "output_type": "stream",
          "text": [
            "/usr/local/lib/python3.7/dist-packages/keras/engine/sequential.py:450: UserWarning: `model.predict_classes()` is deprecated and will be removed after 2021-01-01. Please use instead:* `np.argmax(model.predict(x), axis=-1)`,   if your model does multi-class classification   (e.g. if it uses a `softmax` last-layer activation).* `(model.predict(x) > 0.5).astype(\"int32\")`,   if your model does binary classification   (e.g. if it uses a `sigmoid` last-layer activation).\n",
            "  warnings.warn('`model.predict_classes()` is deprecated and '\n"
          ],
          "name": "stderr"
        },
        {
          "output_type": "stream",
          "text": [
            "confusion matrix\n",
            "----------------------------------------------\n",
            "accuracy\n",
            "0.974677\n",
            "racall\n",
            "0.979285\n",
            "precision\n",
            "0.964976\n",
            "f1score\n",
            "0.972078\n",
            "[[10879   326]\n",
            " [  190  8982]]\n",
            "==============================================\n"
          ],
          "name": "stdout"
        }
      ]
    },
    {
      "cell_type": "code",
      "metadata": {
        "colab": {
          "base_uri": "https://localhost:8080/"
        },
        "id": "sQaryOQ84KRc",
        "outputId": "35f49d78-e62d-47e4-968b-ad1782117296"
      },
      "source": [
        "\n",
        "from sklearn.metrics import classification_report\n",
        "print(classification_report(y_test, y_pred, target_names=['Normal','Attacks']))"
      ],
      "execution_count": 70,
      "outputs": [
        {
          "output_type": "stream",
          "text": [
            "              precision    recall  f1-score   support\n",
            "\n",
            "      Normal       0.98      0.97      0.98     11205\n",
            "     Attacks       0.96      0.98      0.97      9172\n",
            "\n",
            "    accuracy                           0.97     20377\n",
            "   macro avg       0.97      0.98      0.97     20377\n",
            "weighted avg       0.97      0.97      0.97     20377\n",
            "\n"
          ],
          "name": "stdout"
        }
      ]
    },
    {
      "cell_type": "markdown",
      "metadata": {
        "id": "rxLasZsc4jGY"
      },
      "source": [
        "## **RNN Algorithm**"
      ]
    },
    {
      "cell_type": "code",
      "metadata": {
        "id": "nKwnpcvm4n1K"
      },
      "source": [
        "from __future__ import print_function\n",
        "from sklearn.model_selection import train_test_split\n",
        "import pandas as pd\n",
        "import numpy as np\n",
        "np.random.seed(1337)  # for reproducibility\n",
        "from tensorflow.keras.preprocessing import sequence\n",
        "from keras.utils import np_utils\n",
        "from tensorflow.keras.models import Sequential\n",
        "from tensorflow.keras.layers import Dense, Dropout, Activation, Embedding\n",
        "from tensorflow.keras.layers import LSTM, SimpleRNN, GRU\n",
        "from tensorflow.keras.datasets import imdb\n",
        "from keras.utils.np_utils import to_categorical\n",
        "from sklearn.metrics import (precision_score, recall_score,\n",
        "                             f1_score, accuracy_score,mean_squared_error,mean_absolute_error)\n",
        "from sklearn import metrics\n",
        "from sklearn.preprocessing import Normalizer\n",
        "import h5py\n",
        "from tensorflow.keras import callbacks\n",
        "from tensorflow.keras.callbacks import ModelCheckpoint, EarlyStopping, ReduceLROnPlateau, CSVLogger"
      ],
      "execution_count": 71,
      "outputs": []
    },
    {
      "cell_type": "code",
      "metadata": {
        "id": "QHOxtxp546NQ"
      },
      "source": [
        "batch_size = 64\n",
        "\n",
        "model = Sequential()\n",
        "model.add(SimpleRNN(8,input_dim=31, return_sequences=True)) \n",
        "model.add(Dropout(0.1))\n",
        "model.add(SimpleRNN(8, return_sequences=False)) \n",
        "model.add(Dropout(0.1))\n",
        "model.add(Dense(1))\n",
        "model.add(Activation('sigmoid'))"
      ],
      "execution_count": 72,
      "outputs": []
    },
    {
      "cell_type": "code",
      "metadata": {
        "colab": {
          "base_uri": "https://localhost:8080/"
        },
        "id": "kEl7ltpX5CeD",
        "outputId": "2f0f560d-9c17-4256-cd59-7a3f0bf8eb3a"
      },
      "source": [
        "X_train = np.reshape(trainX, (trainX.shape[0],1, trainX.shape[1]))\n",
        "X_test = np.reshape(testT, (testT.shape[0],1, testT.shape[1]))\n",
        "model.compile(loss='binary_crossentropy',optimizer='adam',metrics=['accuracy'])\n",
        "\n",
        "model.fit(X_train, y_train, batch_size=batch_size, epochs=10)"
      ],
      "execution_count": 73,
      "outputs": [
        {
          "output_type": "stream",
          "text": [
            "Epoch 1/10\n",
            "1274/1274 [==============================] - 4s 2ms/step - loss: 0.2616 - accuracy: 0.8942\n",
            "Epoch 2/10\n",
            "1274/1274 [==============================] - 3s 2ms/step - loss: 0.1639 - accuracy: 0.9358\n",
            "Epoch 3/10\n",
            "1274/1274 [==============================] - 3s 2ms/step - loss: 0.1521 - accuracy: 0.9404\n",
            "Epoch 4/10\n",
            "1274/1274 [==============================] - 3s 2ms/step - loss: 0.1444 - accuracy: 0.9424\n",
            "Epoch 5/10\n",
            "1274/1274 [==============================] - 2s 2ms/step - loss: 0.1369 - accuracy: 0.9463\n",
            "Epoch 6/10\n",
            "1274/1274 [==============================] - 2s 2ms/step - loss: 0.1314 - accuracy: 0.9495\n",
            "Epoch 7/10\n",
            "1274/1274 [==============================] - 2s 2ms/step - loss: 0.1274 - accuracy: 0.9521\n",
            "Epoch 8/10\n",
            "1274/1274 [==============================] - 2s 2ms/step - loss: 0.1267 - accuracy: 0.9522\n",
            "Epoch 9/10\n",
            "1274/1274 [==============================] - 2s 2ms/step - loss: 0.1227 - accuracy: 0.9540\n",
            "Epoch 10/10\n",
            "1274/1274 [==============================] - 2s 2ms/step - loss: 0.1210 - accuracy: 0.9546\n"
          ],
          "name": "stdout"
        },
        {
          "output_type": "execute_result",
          "data": {
            "text/plain": [
              "<tensorflow.python.keras.callbacks.History at 0x7f9ff9d0afd0>"
            ]
          },
          "metadata": {
            "tags": []
          },
          "execution_count": 73
        }
      ]
    },
    {
      "cell_type": "code",
      "metadata": {
        "colab": {
          "base_uri": "https://localhost:8080/"
        },
        "id": "3t-chwHWyj6T",
        "outputId": "e1e1e0a8-7869-444f-de31-6cd3cfb4adee"
      },
      "source": [
        "loss, accuracy = model.evaluate(X_train, y_train)\n",
        "print(\"Training Accuracy: %.2f%%\" % (accuracy*100))"
      ],
      "execution_count": 74,
      "outputs": [
        {
          "output_type": "stream",
          "text": [
            "2548/2548 [==============================] - 4s 1ms/step - loss: 0.1048 - accuracy: 0.9599\n",
            "Training Accuracy: 95.99%\n"
          ],
          "name": "stdout"
        }
      ]
    },
    {
      "cell_type": "code",
      "metadata": {
        "colab": {
          "base_uri": "https://localhost:8080/"
        },
        "id": "XrrBkx5f5TXY",
        "outputId": "39ae6ec5-7d5f-4a31-aabd-e603a37b8e57"
      },
      "source": [
        "loss, accuracy = model.evaluate(X_test, y_test)\n",
        "print(\"Testing Accuracy: %.2f%%\" % (accuracy*100))"
      ],
      "execution_count": 75,
      "outputs": [
        {
          "output_type": "stream",
          "text": [
            "637/637 [==============================] - 1s 1ms/step - loss: 0.1143 - accuracy: 0.9547\n",
            "Testing Accuracy: 95.47%\n"
          ],
          "name": "stdout"
        }
      ]
    },
    {
      "cell_type": "code",
      "metadata": {
        "colab": {
          "base_uri": "https://localhost:8080/"
        },
        "id": "VRqyL9J-5nME",
        "outputId": "99001d49-3d8b-4a8c-932a-9ac3948dc76a"
      },
      "source": [
        "y_pred = model.predict_classes(X_test)\n",
        "np.savetxt('/content/drive/MyDrive/expected.txt', y_test, fmt='%01d')\n",
        "np.savetxt('/content/drive/MyDrive/predicted.txt', y_pred, fmt='%01d')\n",
        "rnn_accuracy = accuracy_score(y_test, y_pred)\n",
        "rnn_error = (1- rnn_accuracy)*100\n",
        "rnn_recall = recall_score(y_test, y_pred , average=\"binary\")\n",
        "rnn_precision = precision_score(y_test, y_pred , average=\"binary\")\n",
        "rnn_f1 = f1_score(y_test, y_pred, average=\"binary\")\n",
        "\n",
        "print(\"confusion matrix\")\n",
        "print(\"----------------------------------------------\")\n",
        "print(\"accuracy\")\n",
        "print(\"%.6f\" %rnn_accuracy)\n",
        "print(\"racall\")\n",
        "print(\"%.6f\" %rnn_recall)\n",
        "print(\"precision\")\n",
        "print(\"%.6f\" %rnn_precision)\n",
        "print(\"f1score\")\n",
        "print(\"%.6f\" %rnn_f1)\n",
        "cm = confusion_matrix(y_test, y_pred)\n",
        "print(cm)\n",
        "print(\"==============================================\")"
      ],
      "execution_count": 76,
      "outputs": [
        {
          "output_type": "stream",
          "text": [
            "/usr/local/lib/python3.7/dist-packages/tensorflow/python/keras/engine/sequential.py:455: UserWarning: `model.predict_classes()` is deprecated and will be removed after 2021-01-01. Please use instead:* `np.argmax(model.predict(x), axis=-1)`,   if your model does multi-class classification   (e.g. if it uses a `softmax` last-layer activation).* `(model.predict(x) > 0.5).astype(\"int32\")`,   if your model does binary classification   (e.g. if it uses a `sigmoid` last-layer activation).\n",
            "  warnings.warn('`model.predict_classes()` is deprecated and '\n"
          ],
          "name": "stderr"
        },
        {
          "output_type": "stream",
          "text": [
            "confusion matrix\n",
            "----------------------------------------------\n",
            "accuracy\n",
            "0.954655\n",
            "racall\n",
            "0.984191\n",
            "precision\n",
            "0.920559\n",
            "f1score\n",
            "0.951312\n",
            "[[10426   779]\n",
            " [  145  9027]]\n",
            "==============================================\n"
          ],
          "name": "stdout"
        }
      ]
    },
    {
      "cell_type": "code",
      "metadata": {
        "colab": {
          "base_uri": "https://localhost:8080/"
        },
        "id": "qsWRLgUy6J4D",
        "outputId": "49d7099c-6b20-4d23-b8c2-512516193239"
      },
      "source": [
        "from sklearn.metrics import classification_report\n",
        "print(classification_report(y_test, y_pred, target_names=['Normal','Attacks']))"
      ],
      "execution_count": 77,
      "outputs": [
        {
          "output_type": "stream",
          "text": [
            "              precision    recall  f1-score   support\n",
            "\n",
            "      Normal       0.99      0.93      0.96     11205\n",
            "     Attacks       0.92      0.98      0.95      9172\n",
            "\n",
            "    accuracy                           0.95     20377\n",
            "   macro avg       0.95      0.96      0.95     20377\n",
            "weighted avg       0.96      0.95      0.95     20377\n",
            "\n"
          ],
          "name": "stdout"
        }
      ]
    },
    {
      "cell_type": "markdown",
      "metadata": {
        "id": "52FlF82B6SMH"
      },
      "source": [
        "# **SVM Algorithm**"
      ]
    },
    {
      "cell_type": "code",
      "metadata": {
        "colab": {
          "base_uri": "https://localhost:8080/"
        },
        "id": "3P8YYcmA6ZbV",
        "outputId": "4f245abc-1e7a-432a-ab21-bf83790926f2"
      },
      "source": [
        "from sklearn.svm import SVC\n",
        "model = SVC(kernel='sigmoid',C=0.1,random_state = 1)\n",
        "model.fit(trainX, y_train)"
      ],
      "execution_count": 78,
      "outputs": [
        {
          "output_type": "execute_result",
          "data": {
            "text/plain": [
              "SVC(C=0.1, break_ties=False, cache_size=200, class_weight=None, coef0=0.0,\n",
              "    decision_function_shape='ovr', degree=3, gamma='scale', kernel='sigmoid',\n",
              "    max_iter=-1, probability=False, random_state=1, shrinking=True, tol=0.001,\n",
              "    verbose=False)"
            ]
          },
          "metadata": {
            "tags": []
          },
          "execution_count": 78
        }
      ]
    },
    {
      "cell_type": "code",
      "metadata": {
        "colab": {
          "base_uri": "https://localhost:8080/"
        },
        "id": "LkMqQP-X-vrC",
        "outputId": "596643f4-fdc0-4dfb-c489-327db1d1e4fb"
      },
      "source": [
        "print(\"Train Accuracy: \",(accuracy_score(y_train, model.predict(trainX)))*100)\n",
        "print(\"Test Accuracy: \",(accuracy_score(y_test, model.predict(testT)))*100)"
      ],
      "execution_count": 79,
      "outputs": [
        {
          "output_type": "stream",
          "text": [
            "Train Accuracy:  83.35357699338707\n",
            "Test Accuracy:  82.56858222505767\n"
          ],
          "name": "stdout"
        }
      ]
    },
    {
      "cell_type": "code",
      "metadata": {
        "colab": {
          "base_uri": "https://localhost:8080/"
        },
        "id": "_rnNtKHw6m8Q",
        "outputId": "6e8edc9c-69be-4358-d3ad-08cb0950b7cb"
      },
      "source": [
        "predict = model.predict(testT)\n",
        "np.savetxt('/content/drive/MyDrive/expected.txt', y_test, fmt='%01d')\n",
        "np.savetxt('/content/drive/MyDrive/predicted.txt', predict, fmt='%01d')\n",
        "svm_accuracy = accuracy_score(y_test, predict)\n",
        "svm_error = (1- svm_accuracy)*100\n",
        "svm_recall = recall_score(y_test, predict , average=\"binary\")\n",
        "svm_precision = precision_score(y_test, predict , average=\"binary\")\n",
        "svm_f1 = f1_score(y_test, predict, average=\"binary\")\n",
        "\n",
        "print(\"confusion matrix\")\n",
        "print(\"----------------------------------------------\")\n",
        "print(\"accuracy\")\n",
        "print(\"%.6f\" %svm_accuracy)\n",
        "print(\"racall\")\n",
        "print(\"%.6f\" %svm_recall)\n",
        "print(\"precision\")\n",
        "print(\"%.6f\" %svm_precision)\n",
        "print(\"f1score\")\n",
        "print(\"%.6f\" %svm_f1)\n",
        "cm = confusion_matrix(y_test, predict)\n",
        "print(cm)\n",
        "print(\"==============================================\")"
      ],
      "execution_count": 81,
      "outputs": [
        {
          "output_type": "stream",
          "text": [
            "confusion matrix\n",
            "----------------------------------------------\n",
            "accuracy\n",
            "0.825686\n",
            "racall\n",
            "0.812037\n",
            "precision\n",
            "0.802932\n",
            "f1score\n",
            "0.807459\n",
            "[[9377 1828]\n",
            " [1724 7448]]\n",
            "==============================================\n"
          ],
          "name": "stdout"
        }
      ]
    },
    {
      "cell_type": "code",
      "metadata": {
        "colab": {
          "base_uri": "https://localhost:8080/"
        },
        "id": "YJ5qYIGQ-UHc",
        "outputId": "30feabcf-bea3-4862-b3d6-86ca82661ef2"
      },
      "source": [
        "from sklearn.metrics import classification_report\n",
        "print(classification_report(y_test, predict, target_names=['Normal','Attacks']))"
      ],
      "execution_count": 82,
      "outputs": [
        {
          "output_type": "stream",
          "text": [
            "              precision    recall  f1-score   support\n",
            "\n",
            "      Normal       0.84      0.84      0.84     11205\n",
            "     Attacks       0.80      0.81      0.81      9172\n",
            "\n",
            "    accuracy                           0.83     20377\n",
            "   macro avg       0.82      0.82      0.82     20377\n",
            "weighted avg       0.83      0.83      0.83     20377\n",
            "\n"
          ],
          "name": "stdout"
        }
      ]
    },
    {
      "cell_type": "markdown",
      "metadata": {
        "id": "Kc11ygSh-cTL"
      },
      "source": [
        "## **Decision Tree Algorithm**"
      ]
    },
    {
      "cell_type": "code",
      "metadata": {
        "colab": {
          "base_uri": "https://localhost:8080/"
        },
        "id": "17P-JxS5-Zi7",
        "outputId": "2748ecb9-3f1f-461c-fe37-960bb11197a7"
      },
      "source": [
        "from sklearn.tree import DecisionTreeClassifier\n",
        "dtc = DecisionTreeClassifier(criterion='entropy',random_state=0,splitter=\"random\",max_features=5,max_depth=6)\n",
        "dtc.fit(trainX, y_train)"
      ],
      "execution_count": 83,
      "outputs": [
        {
          "output_type": "execute_result",
          "data": {
            "text/plain": [
              "DecisionTreeClassifier(ccp_alpha=0.0, class_weight=None, criterion='entropy',\n",
              "                       max_depth=6, max_features=5, max_leaf_nodes=None,\n",
              "                       min_impurity_decrease=0.0, min_impurity_split=None,\n",
              "                       min_samples_leaf=1, min_samples_split=2,\n",
              "                       min_weight_fraction_leaf=0.0, presort='deprecated',\n",
              "                       random_state=0, splitter='random')"
            ]
          },
          "metadata": {
            "tags": []
          },
          "execution_count": 83
        }
      ]
    },
    {
      "cell_type": "code",
      "metadata": {
        "colab": {
          "base_uri": "https://localhost:8080/"
        },
        "id": "OTWLKQPODWKz",
        "outputId": "96a555f4-6195-4cb6-ca2d-db42716dc13e"
      },
      "source": [
        "print(\"Train Accuracy: \",(accuracy_score(y_train, dtc.predict(trainX)))*100)\n",
        "print(\"Test Accuracy: \",(accuracy_score(y_test, dtc.predict(testT)))*100)"
      ],
      "execution_count": 84,
      "outputs": [
        {
          "output_type": "stream",
          "text": [
            "Train Accuracy:  89.05124713214816\n",
            "Test Accuracy:  88.28581243558914\n"
          ],
          "name": "stdout"
        }
      ]
    },
    {
      "cell_type": "code",
      "metadata": {
        "colab": {
          "base_uri": "https://localhost:8080/"
        },
        "id": "C8w2i0bt-nHu",
        "outputId": "2af47b06-0755-4bf6-de4f-845b2fef6001"
      },
      "source": [
        "predict = dtc.predict(testT)\n",
        "np.savetxt('/content/drive/MyDrive/expected.txt', y_test, fmt='%01d')\n",
        "np.savetxt('/content/drive/MyDrive/predicted.txt', predict, fmt='%01d')\n",
        "dtc_accuracy = accuracy_score(y_test, predict)\n",
        "dtc_error = (1- dtc_accuracy)*100\n",
        "dtc_recall = recall_score(y_test, predict , average=\"binary\")\n",
        "dtc_precision = precision_score(y_test, predict , average=\"binary\")\n",
        "dtc_f1 = f1_score(y_test, predict, average=\"binary\")\n",
        "\n",
        "print(\"confusion matrix\")\n",
        "print(\"----------------------------------------------\")\n",
        "print(\"accuracy\")\n",
        "print(\"%.6f\" %dtc_accuracy)\n",
        "print(\"racall\")\n",
        "print(\"%.6f\" %dtc_recall)\n",
        "print(\"precision\")\n",
        "print(\"%.6f\" %dtc_precision)\n",
        "print(\"f1score\")\n",
        "print(\"%.6f\" %dtc_f1)\n",
        "cm = confusion_matrix(y_test, predict)\n",
        "print(cm)\n",
        "print(\"==============================================\")"
      ],
      "execution_count": 85,
      "outputs": [
        {
          "output_type": "stream",
          "text": [
            "confusion matrix\n",
            "----------------------------------------------\n",
            "accuracy\n",
            "0.882858\n",
            "racall\n",
            "0.992913\n",
            "precision\n",
            "0.796833\n",
            "f1score\n",
            "0.884132\n",
            "[[8883 2322]\n",
            " [  65 9107]]\n",
            "==============================================\n"
          ],
          "name": "stdout"
        }
      ]
    },
    {
      "cell_type": "code",
      "metadata": {
        "colab": {
          "base_uri": "https://localhost:8080/"
        },
        "id": "b7-JyCVe_xfA",
        "outputId": "c49f1d4e-b3be-4526-c70e-492bb0b1c4ad"
      },
      "source": [
        "from sklearn.metrics import classification_report\n",
        "print(classification_report(y_test, predict, target_names=['Normal','Attacks']))"
      ],
      "execution_count": 86,
      "outputs": [
        {
          "output_type": "stream",
          "text": [
            "              precision    recall  f1-score   support\n",
            "\n",
            "      Normal       0.99      0.79      0.88     11205\n",
            "     Attacks       0.80      0.99      0.88      9172\n",
            "\n",
            "    accuracy                           0.88     20377\n",
            "   macro avg       0.89      0.89      0.88     20377\n",
            "weighted avg       0.90      0.88      0.88     20377\n",
            "\n"
          ],
          "name": "stdout"
        }
      ]
    },
    {
      "cell_type": "code",
      "metadata": {
        "colab": {
          "base_uri": "https://localhost:8080/",
          "height": 188
        },
        "id": "4afCq_i6Ach5",
        "outputId": "8377ef80-2229-419d-91aa-6bd0da4eb117"
      },
      "source": [
        "report = pd.DataFrame(index=[1,2,3,4])\n",
        "report['Algorithm'] = ['CNN', 'RNN','SVM', 'DTC']\n",
        "report['Accuracy (%)'] = [cnn_accuracy*100, rnn_accuracy*100,svm_accuracy*100,dtc_accuracy*100]\n",
        "report['Error (%)'] = [cnn_error, rnn_error,svm_error,dtc_error]\n",
        "report['Precision (%)'] = [cnn_precision*100,rnn_precision*100,svm_precision*100,dtc_precision*100]\n",
        "report['Recall (%)'] = [cnn_recall*100,rnn_recall*100,svm_recall*100,dtc_recall*100]\n",
        "report['F1 score (%)'] = [cnn_f1*100,rnn_f1*100,svm_f1*100,dtc_f1*100]\n",
        "print(\"============================Binary class Classification of Attacks============================\")\n",
        "report"
      ],
      "execution_count": 87,
      "outputs": [
        {
          "output_type": "stream",
          "text": [
            "============================Binary class Classification of Attacks============================\n"
          ],
          "name": "stdout"
        },
        {
          "output_type": "execute_result",
          "data": {
            "text/html": [
              "<div>\n",
              "<style scoped>\n",
              "    .dataframe tbody tr th:only-of-type {\n",
              "        vertical-align: middle;\n",
              "    }\n",
              "\n",
              "    .dataframe tbody tr th {\n",
              "        vertical-align: top;\n",
              "    }\n",
              "\n",
              "    .dataframe thead th {\n",
              "        text-align: right;\n",
              "    }\n",
              "</style>\n",
              "<table border=\"1\" class=\"dataframe\">\n",
              "  <thead>\n",
              "    <tr style=\"text-align: right;\">\n",
              "      <th></th>\n",
              "      <th>Algorithm</th>\n",
              "      <th>Accuracy (%)</th>\n",
              "      <th>Error (%)</th>\n",
              "      <th>Precision (%)</th>\n",
              "      <th>Recall (%)</th>\n",
              "      <th>F1 score (%)</th>\n",
              "    </tr>\n",
              "  </thead>\n",
              "  <tbody>\n",
              "    <tr>\n",
              "      <th>1</th>\n",
              "      <td>CNN</td>\n",
              "      <td>97.467733</td>\n",
              "      <td>2.532267</td>\n",
              "      <td>96.497636</td>\n",
              "      <td>97.928478</td>\n",
              "      <td>97.207792</td>\n",
              "    </tr>\n",
              "    <tr>\n",
              "      <th>2</th>\n",
              "      <td>RNN</td>\n",
              "      <td>95.465476</td>\n",
              "      <td>4.534524</td>\n",
              "      <td>92.055884</td>\n",
              "      <td>98.419102</td>\n",
              "      <td>95.131205</td>\n",
              "    </tr>\n",
              "    <tr>\n",
              "      <th>3</th>\n",
              "      <td>SVM</td>\n",
              "      <td>82.568582</td>\n",
              "      <td>17.431418</td>\n",
              "      <td>80.293230</td>\n",
              "      <td>81.203663</td>\n",
              "      <td>80.745880</td>\n",
              "    </tr>\n",
              "    <tr>\n",
              "      <th>4</th>\n",
              "      <td>DTC</td>\n",
              "      <td>88.285812</td>\n",
              "      <td>11.714188</td>\n",
              "      <td>79.683262</td>\n",
              "      <td>99.291321</td>\n",
              "      <td>88.413184</td>\n",
              "    </tr>\n",
              "  </tbody>\n",
              "</table>\n",
              "</div>"
            ],
            "text/plain": [
              "  Algorithm  Accuracy (%)  Error (%)  Precision (%)  Recall (%)  F1 score (%)\n",
              "1       CNN     97.467733   2.532267      96.497636   97.928478     97.207792\n",
              "2       RNN     95.465476   4.534524      92.055884   98.419102     95.131205\n",
              "3       SVM     82.568582  17.431418      80.293230   81.203663     80.745880\n",
              "4       DTC     88.285812  11.714188      79.683262   99.291321     88.413184"
            ]
          },
          "metadata": {
            "tags": []
          },
          "execution_count": 87
        }
      ]
    },
    {
      "cell_type": "code",
      "metadata": {
        "colab": {
          "base_uri": "https://localhost:8080/",
          "height": 388
        },
        "id": "HsTHA2ZhAwqX",
        "outputId": "9c240445-6334-4e01-c10b-39f9ccb703f7"
      },
      "source": [
        "import matplotlib.pyplot as plt\n",
        "report.plot(x=\"Algorithm\", y=[\"Accuracy (%)\", \"Precision (%)\", \"Recall (%)\",\"F1 score (%)\"], kind=\"bar\",figsize=(10,6))\n",
        "plt.xticks(rotation=360)\n",
        "plt.show()"
      ],
      "execution_count": 88,
      "outputs": [
        {
          "output_type": "display_data",
          "data": {
            "image/png": "[encoded data removed]",
            "text/plain": [
              "<Figure size 720x432 with 1 Axes>"
            ]
          },
          "metadata": {
            "tags": [],
            "needs_background": "light"
          }
        }
      ]
    },
    {
      "cell_type": "code",
      "metadata": {
        "colab": {
          "base_uri": "https://localhost:8080/",
          "height": 334
        },
        "id": "ajR5h_r_A4U8",
        "outputId": "0409e91c-b8ef-4293-dd9e-0f689411269a"
      },
      "source": [
        "fig, ax = plt.subplots(figsize=(10,5))\n",
        "sns.lineplot(x=\"Algorithm\", y=\"Accuracy (%)\", data=report, ax=ax)\n",
        "plt.show()"
      ],
      "execution_count": 89,
      "outputs": [
        {
          "output_type": "display_data",
          "data": {
            "image/png": "[encoded data removed]",
            "text/plain": [
              "<Figure size 720x360 with 1 Axes>"
            ]
          },
          "metadata": {
            "tags": [],
            "needs_background": "light"
          }
        }
      ]
    },
    {
      "cell_type": "code",
      "metadata": {
        "id": "-582qZOGA-Jm"
      },
      "source": [
        ""
      ],
      "execution_count": null,
      "outputs": []
    }
  ]
}